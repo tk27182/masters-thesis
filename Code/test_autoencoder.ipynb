{
 "cells": [
  {
   "cell_type": "code",
   "execution_count": 47,
   "id": "2cc792c9",
   "metadata": {},
   "outputs": [],
   "source": [
    "import sys\n",
    "import shutil\n",
    "import time\n",
    "import resource\n",
    "import json\n",
    "from pathlib import Path\n",
    "\n",
    "from scipy.stats import multivariate_normal, norm\n",
    "\n",
    "import tensorflow as tf\n",
    "import keras_tuner as kt\n",
    "from tensorflow.keras.callbacks import EarlyStopping, Callback\n",
    "#from keras.metrics import AUC, RootMeanSquaredError\n",
    "from tensorflow.keras.models import Model\n",
    "\n",
    "import numpy as np\n",
    "import pandas as pd\n",
    "from sklearn.utils import class_weight\n",
    "from sklearn.metrics import r2_score, auc, roc_curve, roc_auc_score, log_loss, fbeta_score,precision_recall_curve\n",
    "\n",
    "import nn_models as nnm\n",
    "import dataprocessing as dp\n",
    "import visualization as viz"
   ]
  },
  {
   "cell_type": "code",
   "execution_count": 2,
   "id": "c1d90ed2",
   "metadata": {},
   "outputs": [],
   "source": [
    "import matplotlib.pyplot as plt\n",
    "import seaborn as sns"
   ]
  },
  {
   "cell_type": "markdown",
   "id": "0f2d1aa4",
   "metadata": {},
   "source": [
    "# Try Normalization Layer"
   ]
  },
  {
   "cell_type": "code",
   "execution_count": 230,
   "id": "6a8140c1",
   "metadata": {},
   "outputs": [],
   "source": [
    "class LSTMAutoEncoder(Model):\n",
    "    def __init__(self, timesteps, input_dim, lstm_dim):\n",
    "        super(LSTMAutoEncoder, self).__init__()\n",
    "        self.timesteps = timesteps\n",
    "        self.input_dim = input_dim\n",
    "        self.lstm_dim  = lstm_dim\n",
    "\n",
    "        self.encoder = tf.keras.models.Sequential()\n",
    "        self.encoder.add(tf.keras.Input(shape=(self.timesteps, self.input_dim)))\n",
    "        #self.encoder.add(tf.keras.layers.Normalization(axis = [0,-1]))\n",
    "        #self.encoder.add(tf.keras.layers.LSTM(self.lstm_dim*2, activation='relu', return_sequences=True))\n",
    "        self.encoder.add(tf.keras.layers.LSTM(self.lstm_dim, kernel_regularizer=tf.keras.regularizers.L2(),\n",
    "                                              bias_regularizer=tf.keras.regularizers.L2(1e-4),\n",
    "                                  return_sequences=False, \n",
    "                                  name = \"encoder\"))\n",
    "\n",
    "        self.decoder = tf.keras.models.Sequential()\n",
    "        self.decoder.add(tf.keras.layers.RepeatVector(self.timesteps))\n",
    "        self.decoder.add(tf.keras.layers.LSTM(self.input_dim, activation='tanh',\n",
    "                                              kernel_regularizer=tf.keras.regularizers.L2(),\n",
    "                                              bias_regularizer=tf.keras.regularizers.L2(1e-4),\n",
    "                                         return_sequences=True, name = 'decoder'))\n",
    "        #self.decoder.add(tf.keras.layers.LSTM(self.lstm_dim*2, activation='relu', return_sequences=True))\n",
    "        \n",
    "        self.decoder.add(tf.keras.layers.TimeDistributed(\n",
    "                                tf.keras.layers.Dense(self.input_dim, activation = 'linear')\n",
    "        ))\n",
    "\n",
    "    def call(self, x):\n",
    "        encoded = self.encoder(x)\n",
    "        decoded = self.decoder(encoded)\n",
    "        return decoded"
   ]
  },
  {
   "cell_type": "code",
   "execution_count": 231,
   "id": "1fde0138",
   "metadata": {},
   "outputs": [],
   "source": [
    "### Test running the model\n",
    "loss = 'mean_squared_error'\n",
    "TIME_STEPS = 24\n",
    "BATCH_SIZE = 16\n",
    "num_features = 2\n",
    "\n",
    "### Define early stopping\n",
    "early_stopping = tf.keras.callbacks.EarlyStopping(monitor='val_loss',\n",
    "                                                    patience=5,\n",
    "                                                    mode='min')\n",
    "\n",
    "\n",
    "\n",
    "#model = nnm.HyperLSTMAutoEncoder(loss=loss, time_steps=TIME_STEPS, num_features=num_features)"
   ]
  },
  {
   "cell_type": "code",
   "execution_count": 232,
   "id": "f48eabc9",
   "metadata": {},
   "outputs": [
    {
     "name": "stdout",
     "output_type": "stream",
     "text": [
      "The beginning shape is:  (10221, 99)\n",
      "After dropping rows with NaN in the SH_Event columns, the shape is:  (10011, 99)\n",
      "NaN values in this dataset:  False\n",
      "The left data frame set shape is:  (10011, 48)\n",
      "The right data frame set shape is:  (10011, 48)\n",
      "The keep left data frame set shape is:  (10011, 24)\n",
      "The keep right data frame set shape is:  (10011, 24)\n",
      "Not adding fake positive data samples.\n",
      "Index(['t25_l', 't26_l', 't27_l', 't28_l', 't29_l', 't30_l', 't31_l', 't32_l',\n",
      "       't33_l', 't34_l', 't35_l', 't36_l', 't37_l', 't38_l', 't39_l', 't40_l',\n",
      "       't41_l', 't42_l', 't43_l', 't44_l', 't45_l', 't46_l', 't47_l', 't48_l'],\n",
      "      dtype='object')\n",
      "Index(['t25_r', 't26_r', 't27_r', 't28_r', 't29_r', 't30_r', 't31_r', 't32_r',\n",
      "       't33_r', 't34_r', 't35_r', 't36_r', 't37_r', 't38_r', 't39_r', 't40_r',\n",
      "       't41_r', 't42_r', 't43_r', 't44_r', 't45_r', 't46_r', 't47_r', 't48_r'],\n",
      "      dtype='object')\n"
     ]
    }
   ],
   "source": [
    "### Load the data\n",
    "data, target = dp.create_featured_dataset('3-jk', sensor='both', dlh=0, \n",
    "                                          keep_SH=False, keep_event=True, smote=None)"
   ]
  },
  {
   "cell_type": "code",
   "execution_count": 243,
   "id": "dc381938",
   "metadata": {},
   "outputs": [
    {
     "name": "stdout",
     "output_type": "stream",
     "text": [
      "Train labels shape:  (2380,)\n",
      "Test labels shape:  (5836,)\n",
      "Val labels shape:  (1795,)\n",
      "Normal train data shape is:  (2345, 24, 2)\n",
      "Normal test data shape is:  (5824, 24, 2)\n",
      "Normal val data shape is:  (1783, 24, 2)\n",
      "Anomalous train data shape is:  (35, 24, 2)\n",
      "Anomalous test data shape is:  (12, 24, 2)\n",
      "Anomalous val data shape is:  (12, 24, 2)\n",
      "Anomalous train data shape is:  (35, 24, 2)\n",
      "Anomalous val data shape is:  (12, 24, 2)\n"
     ]
    }
   ],
   "source": [
    "### Split the data into train, val, and testing\n",
    "target = np.where(target == 1, 1, 0)\n",
    "\n",
    "train_idx, val_idx, test_idx = dp.split_data_cv_indx(data,target)\n",
    "\n",
    "# Prepare data for the autoencoder model\n",
    "normal, anomalous = dp.process_autoencoder(data[train_idx], data[test_idx], data[val_idx],\n",
    "                                           target[train_idx], target[test_idx], target[val_idx])\n",
    "\n",
    "normal_train, normal_val, normal_train_target, normal_val_target             = normal\n",
    "anomalous_train, anomalous_val, anomalous_train_target, anomalous_val_target = anomalous\n",
    "\n",
    "# Try Normalizing the data\n",
    "#scaled_normal_train, scaled_test, scaled_normal_val = dp.normalize_data(normal_train, data[test_idx], normal_val)\n",
    "\n",
    "train_data = normal_train # scaled_normal_train #\n",
    "y_train    = normal_train_target\n",
    "\n",
    "test_data  = data[test_idx] #scaled_test #\n",
    "y_test     = target[test_idx]\n",
    "\n",
    "val_data   = normal_val #scaled_normal_val #\n",
    "y_val      = normal_val_target\n",
    "\n",
    "print(\"Anomalous train data shape is: \", anomalous_train.shape)\n",
    "print(\"Anomalous val data shape is: \", anomalous_val.shape)"
   ]
  },
  {
   "cell_type": "code",
   "execution_count": 244,
   "id": "76d1288c",
   "metadata": {},
   "outputs": [
    {
     "data": {
      "text/plain": [
       "<tf.Tensor: shape=(2, 2, 3), dtype=float32, numpy=\n",
       "array([[[1., 2., 3.],\n",
       "        [4., 5., 6.]],\n",
       "\n",
       "       [[0., 0., 0.],\n",
       "        [1., 1., 1.]]], dtype=float32)>"
      ]
     },
     "execution_count": 244,
     "metadata": {},
     "output_type": "execute_result"
    }
   ],
   "source": [
    "A = np.array([[[1,2,3], [4,5,6]], [[0,0,0], [1,1,1]]])\n",
    "test_layer = tf.keras.layers.Normalization(axis=-1)\n",
    "#test_layer.adapt(A)\n",
    "test_layer(A)"
   ]
  },
  {
   "cell_type": "code",
   "execution_count": 245,
   "id": "3ae72ae3",
   "metadata": {},
   "outputs": [
    {
     "name": "stdout",
     "output_type": "stream",
     "text": [
      "No train weights assigned for autoencoder\n"
     ]
    }
   ],
   "source": [
    "train_weights = {0: 1, 1: 1}\n",
    "print(\"No train weights assigned for autoencoder\")"
   ]
  },
  {
   "cell_type": "code",
   "execution_count": 246,
   "id": "b56beda6",
   "metadata": {},
   "outputs": [
    {
     "name": "stdout",
     "output_type": "stream",
     "text": [
      "Epoch 1/5000\n",
      "132/132 [==============================] - 7s 23ms/step - loss: 11155.3008 - val_loss: 7877.9585\n",
      "Epoch 2/5000\n",
      "132/132 [==============================] - 2s 17ms/step - loss: 6548.3574 - val_loss: 4674.6479\n",
      "Epoch 3/5000\n",
      "132/132 [==============================] - 2s 17ms/step - loss: 4430.1475 - val_loss: 3170.1736\n",
      "Epoch 4/5000\n",
      "132/132 [==============================] - 2s 16ms/step - loss: 3461.4370 - val_loss: 2457.9873\n",
      "Epoch 5/5000\n",
      "132/132 [==============================] - 2s 16ms/step - loss: 3018.0325 - val_loss: 2117.6714\n",
      "Epoch 6/5000\n",
      "132/132 [==============================] - 2s 17ms/step - loss: 2816.1721 - val_loss: 1950.9640\n",
      "Epoch 7/5000\n",
      "132/132 [==============================] - 2s 17ms/step - loss: 2723.0615 - val_loss: 1865.0681\n",
      "Epoch 8/5000\n",
      "132/132 [==============================] - 2s 18ms/step - loss: 2679.3826 - val_loss: 1820.4167\n",
      "Epoch 9/5000\n",
      "132/132 [==============================] - 2s 17ms/step - loss: 2659.1045 - val_loss: 1795.7067\n",
      "Epoch 10/5000\n",
      "132/132 [==============================] - 2s 17ms/step - loss: 2649.8296 - val_loss: 1782.8982\n",
      "Epoch 11/5000\n",
      "132/132 [==============================] - 2s 16ms/step - loss: 2645.8425 - val_loss: 1775.0701\n",
      "Epoch 12/5000\n",
      "132/132 [==============================] - 2s 16ms/step - loss: 2643.8091 - val_loss: 1770.2953\n",
      "Epoch 13/5000\n",
      "132/132 [==============================] - 2s 16ms/step - loss: 2642.8477 - val_loss: 1767.1174\n",
      "Epoch 14/5000\n",
      "132/132 [==============================] - 2s 17ms/step - loss: 2642.5784 - val_loss: 1765.4535\n",
      "Epoch 15/5000\n",
      "132/132 [==============================] - 2s 17ms/step - loss: 2642.2776 - val_loss: 1764.5420\n",
      "Epoch 16/5000\n",
      "132/132 [==============================] - 2s 16ms/step - loss: 2642.3208 - val_loss: 1763.7263\n",
      "Epoch 17/5000\n",
      "132/132 [==============================] - 2s 16ms/step - loss: 2642.3364 - val_loss: 1763.3298\n",
      "Epoch 18/5000\n",
      "132/132 [==============================] - 2s 16ms/step - loss: 2642.2432 - val_loss: 1762.5264\n",
      "Epoch 19/5000\n",
      "132/132 [==============================] - 2s 16ms/step - loss: 2642.2100 - val_loss: 1762.5463\n",
      "Epoch 20/5000\n",
      "132/132 [==============================] - 2s 17ms/step - loss: 2642.2771 - val_loss: 1762.4761\n",
      "Epoch 21/5000\n",
      "132/132 [==============================] - 2s 16ms/step - loss: 2642.1978 - val_loss: 1762.2771\n",
      "Epoch 22/5000\n",
      "132/132 [==============================] - 2s 16ms/step - loss: 2642.1433 - val_loss: 1762.4014\n",
      "Epoch 23/5000\n",
      "132/132 [==============================] - 2s 16ms/step - loss: 2642.1394 - val_loss: 1762.5786\n",
      "Epoch 24/5000\n",
      "132/132 [==============================] - 2s 18ms/step - loss: 2642.0146 - val_loss: 1762.2285\n",
      "Epoch 25/5000\n",
      "132/132 [==============================] - 2s 16ms/step - loss: 2642.0110 - val_loss: 1762.4119\n",
      "Epoch 26/5000\n",
      "132/132 [==============================] - 2s 17ms/step - loss: 2641.9128 - val_loss: 1763.2732\n",
      "Epoch 27/5000\n",
      "132/132 [==============================] - 2s 16ms/step - loss: 2642.1484 - val_loss: 1763.9240\n",
      "Epoch 28/5000\n",
      "132/132 [==============================] - 2s 16ms/step - loss: 2642.4172 - val_loss: 1764.1237\n",
      "Epoch 29/5000\n",
      "132/132 [==============================] - 2s 16ms/step - loss: 2642.1096 - val_loss: 1764.6127\n"
     ]
    }
   ],
   "source": [
    "# Test single model\n",
    "autoencoder = LSTMAutoEncoder(TIME_STEPS, num_features, 16) #, timesteps) #nnm.AnomalyDetector(data.shape[1])\n",
    "\n",
    "autoencoder.compile(optimizer=tf.keras.optimizers.SGD(learning_rate=1e-3),\n",
    "                    loss='mean_squared_error')\n",
    "                    #metrics=[tf.keras.metrics.Precision(name='precision'),\n",
    "                    #                tf.keras.metrics.Recall(name='recall'),\n",
    "                    #                tf.keras.metrics.AUC(name='auc'),\n",
    "                    #                tf.keras.metrics.AUC(name='prc', curve='PR')])\n",
    "\n",
    "history = autoencoder.fit(train_data, train_data,\n",
    "          epochs=5000, callbacks = [early_stopping],\n",
    "          validation_split=0.1, batch_size=BATCH_SIZE)\n",
    "          #validation_data=(val_data, val_data))"
   ]
  },
  {
   "cell_type": "code",
   "execution_count": 247,
   "id": "4a9bee31",
   "metadata": {},
   "outputs": [
    {
     "data": {
      "text/plain": [
       "<AxesSubplot:title={'center':'LSTM Autoencoder'}, xlabel='Epochs', ylabel='Loss'>"
      ]
     },
     "execution_count": 247,
     "metadata": {},
     "output_type": "execute_result"
    },
    {
     "data": {
      "image/png": "[encoded data removed]",
      "text/plain": [
       "<Figure size 800x600 with 1 Axes>"
      ]
     },
     "metadata": {},
     "output_type": "display_data"
    }
   ],
   "source": [
    "# Plot Train and Val loss\n",
    "viz.plot_loss(history.history['loss'], history.history['val_loss'], title = 'LSTM Autoencoder')"
   ]
  },
  {
   "cell_type": "code",
   "execution_count": 248,
   "id": "20a670ba",
   "metadata": {},
   "outputs": [],
   "source": [
    "class ThresholdEstimator:\n",
    "\n",
    "    def __init__(self) -> None:\n",
    "        self.mu        = 0\n",
    "        self.sigma     = 1\n",
    "        self.threshold = None\n",
    "\n",
    "    def fit(self, model, data, target):\n",
    "\n",
    "        # Reconstruct the data\n",
    "        reconstructions = model.predict(data)\n",
    "        print(\"Reconstructions:\")\n",
    "        print(reconstructions[:5, :5])\n",
    "        print(\"Data:\")\n",
    "        print(data[:5, :5])\n",
    "        errors = tf.keras.losses.mse(self._compress_array(reconstructions), self._compress_array(data))\n",
    "        \n",
    "        # Estimate the normal distribution of the errors\n",
    "        self.mu    = np.mean(errors, axis = 0)\n",
    "        self.sigma = np.cov(errors)\n",
    "\n",
    "        #likelihoods = multivariate_normal.pdf(errors, mean=self.mu, cov=self.sigma)\n",
    "        likelihoods  = norm.pdf(errors, loc=self.mu, scale=self.sigma)\n",
    "        print(\"Likelihoods:\")\n",
    "        print(likelihoods[:5])\n",
    "\n",
    "        f_list = []\n",
    "        \n",
    "        #step_size = int((max(likelihoods) - min(likelihoods)) / 1000) # Too small for arange\n",
    "        thresholds = np.linspace(min(likelihoods), max(likelihoods), 100)\n",
    "        \n",
    "        for t in thresholds:\n",
    "\n",
    "            preds = (likelihoods<t).astype(int)\n",
    "            f = fbeta_score(target, preds, beta=0.1)\n",
    "            f_list.append(f)\n",
    "\n",
    "        bidx = np.argmax(f_list)\n",
    "        \n",
    "        self.best_threshold = np.max(errors)\n",
    "        #self.best_threshold = np.quantile(errors, 0.95) #thresholds[bidx]\n",
    "\n",
    "        return self\n",
    "    \n",
    "    def _compress_array(self, array):\n",
    "        compressed_array = [array[sample, array.shape[1]-1, :] for sample in range(array.shape[0])]\n",
    "    \n",
    "        return compressed_array\n",
    "    \n",
    "    def predict(self, model, data, target):\n",
    "        \n",
    "        reconstructions = model.predict(data)\n",
    "        errors = np.array(tf.keras.losses.mse(self._compress_array(reconstructions), self._compress_array(data)))\n",
    "        print(errors[:5])\n",
    "#         #likelihoods = multivariate_normal.pdf(errors, mean=self.mu, cov=self.sigma)\n",
    "#         #likelihoods = norm.pdf(errors, loc=self.mu, scale=self.sigma)\n",
    "#         likelihoods = np.array(errors)\n",
    "#         print(likelihoods[:5])\n",
    "#        pred_labels = (likelihoods < self.best_threshold).astype(int)\n",
    "        likelihoods = errors\n",
    "        pred_labels = (errors > self.best_threshold).astype(int)\n",
    "        return likelihoods, pred_labels"
   ]
  },
  {
   "cell_type": "code",
   "execution_count": 249,
   "id": "7c551a52",
   "metadata": {},
   "outputs": [
    {
     "name": "stdout",
     "output_type": "stream",
     "text": [
      "56/56 [==============================] - 1s 4ms/step\n",
      "Reconstructions:\n",
      "[[[ 89.50729   96.19905 ]\n",
      "  [102.95004  110.76814 ]\n",
      "  [105.60337  113.63286 ]\n",
      "  [106.2417   114.3165  ]\n",
      "  [106.446106 114.53363 ]]\n",
      "\n",
      " [[ 89.5072    96.19895 ]\n",
      "  [102.94898  110.76701 ]\n",
      "  [105.6024   113.63185 ]\n",
      "  [106.24091  114.315674]\n",
      "  [106.445465 114.53296 ]]\n",
      "\n",
      " [[ 89.50716   96.19891 ]\n",
      "  [102.94793  110.7659  ]\n",
      "  [105.601425 113.63081 ]\n",
      "  [106.24012  114.314835]\n",
      "  [106.44481  114.53227 ]]\n",
      "\n",
      " [[ 89.507164  96.19892 ]\n",
      "  [102.947495 110.76546 ]\n",
      "  [105.60103  113.63039 ]\n",
      "  [106.23981  114.314514]\n",
      "  [106.44455  114.532   ]]\n",
      "\n",
      " [[ 89.50726   96.19903 ]\n",
      "  [102.94714  110.76509 ]\n",
      "  [105.600685 113.630035]\n",
      "  [106.23953  114.314224]\n",
      "  [106.44433  114.53177 ]]]\n",
      "Data:\n",
      "[[[105.2 134. ]\n",
      "  [ 97.8 112. ]\n",
      "  [ 83.2  88. ]\n",
      "  [ 76.   74. ]\n",
      "  [ 74.2  68. ]]\n",
      "\n",
      " [[ 97.8 112. ]\n",
      "  [ 83.2  88. ]\n",
      "  [ 76.   74. ]\n",
      "  [ 74.2  68. ]\n",
      "  [ 68.4  73. ]]\n",
      "\n",
      " [[ 83.2  88. ]\n",
      "  [ 76.   74. ]\n",
      "  [ 74.2  68. ]\n",
      "  [ 68.4  73. ]\n",
      "  [ 62.2  83. ]]\n",
      "\n",
      " [[ 76.   74. ]\n",
      "  [ 74.2  68. ]\n",
      "  [ 68.4  73. ]\n",
      "  [ 62.2  83. ]\n",
      "  [ 58.6  78. ]]\n",
      "\n",
      " [[ 74.2  68. ]\n",
      "  [ 68.4  73. ]\n",
      "  [ 62.2  83. ]\n",
      "  [ 58.6  78. ]\n",
      "  [ 58.   75. ]]]\n",
      "Likelihoods:\n",
      "[6.92470262e-09 6.92470262e-09 6.92470262e-09 6.92470262e-09\n",
      " 6.92470262e-09]\n"
     ]
    },
    {
     "name": "stderr",
     "output_type": "stream",
     "text": [
      "/Users/kirsh012/opt/anaconda3/envs/tf/lib/python3.10/site-packages/sklearn/metrics/_classification.py:1599: UndefinedMetricWarning: F-score is ill-defined and being set to 0.0 due to no true nor predicted samples. Use `zero_division` parameter to control this behavior.\n",
      "  _warn_prf(average, \"true nor predicted\", \"F-score is\", len(true_sum))\n"
     ]
    },
    {
     "data": {
      "text/plain": [
       "<__main__.ThresholdEstimator at 0x7f7cc3ba82e0>"
      ]
     },
     "execution_count": 249,
     "metadata": {},
     "output_type": "execute_result"
    }
   ],
   "source": [
    "# Fit the threshold using the validation dataset.\n",
    "ter = ThresholdEstimator()\n",
    "\n",
    "ter.fit(autoencoder, val_data, y_val)"
   ]
  },
  {
   "cell_type": "code",
   "execution_count": 259,
   "id": "3c3a97f5",
   "metadata": {},
   "outputs": [
    {
     "name": "stdout",
     "output_type": "stream",
     "text": [
      "75/75 [==============================] - 0s 4ms/step\n",
      "[4145.09023805 5012.99711477 3293.57592948  531.04505817   44.05546095]\n",
      "Test AU-ROC:  0.8255558939993908\n",
      "Test AU-PRC:  0.037868042645954086\n",
      "F-0.1 Score:  0.0\n"
     ]
    }
   ],
   "source": [
    "test_preds, test_labels = ter.predict(autoencoder, data[train_idx], target[train_idx])\n",
    "\n",
    "fpr_test, tpr_test, thresh_test = roc_curve(target[train_idx], test_preds)\n",
    "ppr_test, rec_test, pthresh_test = precision_recall_curve(target[train_idx], test_preds)\n",
    "\n",
    "print(\"Test AU-ROC: \", auc(fpr_test, tpr_test))\n",
    "print(\"Test AU-PRC: \", auc(rec_test, ppr_test))\n",
    "print(\"F-0.1 Score: \", fbeta_score(target[train_idx], test_labels, beta=0.1))"
   ]
  },
  {
   "cell_type": "code",
   "execution_count": 178,
   "id": "1e394c1b",
   "metadata": {},
   "outputs": [],
   "source": [
    "### Try a convolutional model\n",
    "conv_model = tf.keras.Sequential(\n",
    "    [\n",
    "        tf.keras.layers.Input(shape=(train_data.shape[1], train_data.shape[2])),\n",
    "        tf.keras.layers.Conv1D(\n",
    "            filters=32, kernel_size=7, padding=\"same\", strides=2, activation=\"relu\"\n",
    "        ),\n",
    "        tf.keras.layers.Dropout(rate=0.2),\n",
    "        tf.keras.layers.Conv1D(\n",
    "            filters=16, kernel_size=7, padding=\"same\", strides=2, activation=\"relu\"\n",
    "        ),\n",
    "        tf.keras.layers.Conv1DTranspose(\n",
    "            filters=16, kernel_size=7, padding=\"same\", strides=2, activation=\"relu\"\n",
    "        ),\n",
    "        tf.keras.layers.Dropout(rate=0.2),\n",
    "        tf.keras.layers.Conv1DTranspose(\n",
    "            filters=32, kernel_size=7, padding=\"same\", strides=2, activation=\"relu\"\n",
    "        ),\n",
    "        tf.keras.layers.Conv1DTranspose(filters=1, kernel_size=7, padding=\"same\"),\n",
    "        \n",
    "        tf.keras.layers.TimeDistributed(\n",
    "            tf.keras.layers.Dense(2, activation = 'relu'))\n",
    "    ]\n",
    ")\n",
    "conv_model.compile(optimizer=tf.keras.optimizers.Adam(learning_rate=0.001), loss=\"mse\")"
   ]
  },
  {
   "cell_type": "code",
   "execution_count": 183,
   "id": "a8a9c490",
   "metadata": {},
   "outputs": [
    {
     "name": "stdout",
     "output_type": "stream",
     "text": [
      "Epoch 1/50\n",
      "132/132 [==============================] - 1s 6ms/step - loss: 0.4260 - val_loss: 0.2181\n",
      "Epoch 2/50\n",
      "132/132 [==============================] - 1s 6ms/step - loss: 0.4219 - val_loss: 0.2232\n",
      "Epoch 3/50\n",
      "132/132 [==============================] - 1s 6ms/step - loss: 0.4199 - val_loss: 0.2173\n",
      "Epoch 4/50\n",
      "132/132 [==============================] - 1s 5ms/step - loss: 0.4194 - val_loss: 0.2165\n",
      "Epoch 5/50\n",
      "132/132 [==============================] - 1s 5ms/step - loss: 0.4191 - val_loss: 0.2137\n",
      "Epoch 6/50\n",
      "132/132 [==============================] - 1s 5ms/step - loss: 0.4174 - val_loss: 0.2232\n",
      "Epoch 7/50\n",
      "132/132 [==============================] - 1s 5ms/step - loss: 0.4174 - val_loss: 0.2148\n",
      "Epoch 8/50\n",
      "132/132 [==============================] - 1s 5ms/step - loss: 0.4184 - val_loss: 0.2130\n",
      "Epoch 9/50\n",
      "132/132 [==============================] - 1s 5ms/step - loss: 0.4168 - val_loss: 0.2138\n",
      "Epoch 10/50\n",
      "132/132 [==============================] - 1s 5ms/step - loss: 0.4161 - val_loss: 0.2078\n",
      "Epoch 11/50\n",
      "132/132 [==============================] - 1s 6ms/step - loss: 0.4159 - val_loss: 0.2151\n",
      "Epoch 12/50\n",
      "132/132 [==============================] - 1s 6ms/step - loss: 0.4152 - val_loss: 0.2181\n",
      "Epoch 13/50\n",
      "132/132 [==============================] - 1s 5ms/step - loss: 0.4153 - val_loss: 0.2215\n",
      "Epoch 14/50\n",
      "132/132 [==============================] - 1s 5ms/step - loss: 0.4146 - val_loss: 0.2175\n",
      "Epoch 15/50\n",
      "132/132 [==============================] - 1s 6ms/step - loss: 0.4149 - val_loss: 0.2144\n"
     ]
    }
   ],
   "source": [
    "conv_history = conv_model.fit(\n",
    "    train_data,\n",
    "    train_data,\n",
    "    epochs=50,\n",
    "    batch_size=16,\n",
    "    validation_split=0.1,\n",
    "    callbacks=[\n",
    "        tf.keras.callbacks.EarlyStopping(monitor=\"val_loss\", patience=5, mode=\"min\")\n",
    "    ],\n",
    ")\n"
   ]
  },
  {
   "cell_type": "code",
   "execution_count": 184,
   "id": "5686da9e",
   "metadata": {},
   "outputs": [
    {
     "data": {
      "text/plain": [
       "<AxesSubplot:title={'center':'Convolutional Autoencoder'}, xlabel='Epochs', ylabel='Loss'>"
      ]
     },
     "execution_count": 184,
     "metadata": {},
     "output_type": "execute_result"
    },
    {
     "data": {
      "image/png": "[encoded data removed]",
      "text/plain": [
       "<Figure size 800x600 with 1 Axes>"
      ]
     },
     "metadata": {},
     "output_type": "display_data"
    }
   ],
   "source": [
    "# Plot Train and Val loss\n",
    "viz.plot_loss(conv_history.history['loss'], conv_history.history['val_loss'], title = 'Convolutional Autoencoder')"
   ]
  },
  {
   "cell_type": "code",
   "execution_count": 181,
   "id": "d360b41c",
   "metadata": {},
   "outputs": [
    {
     "name": "stdout",
     "output_type": "stream",
     "text": [
      "56/56 [==============================] - 0s 3ms/step\n",
      "Reconstructions:\n",
      "[[[0. 0.]\n",
      "  [0. 0.]\n",
      "  [0. 0.]\n",
      "  [0. 0.]\n",
      "  [0. 0.]]\n",
      "\n",
      " [[0. 0.]\n",
      "  [0. 0.]\n",
      "  [0. 0.]\n",
      "  [0. 0.]\n",
      "  [0. 0.]]\n",
      "\n",
      " [[0. 0.]\n",
      "  [0. 0.]\n",
      "  [0. 0.]\n",
      "  [0. 0.]\n",
      "  [0. 0.]]\n",
      "\n",
      " [[0. 0.]\n",
      "  [0. 0.]\n",
      "  [0. 0.]\n",
      "  [0. 0.]\n",
      "  [0. 0.]]\n",
      "\n",
      " [[0. 0.]\n",
      "  [0. 0.]\n",
      "  [0. 0.]\n",
      "  [0. 0.]\n",
      "  [0. 0.]]]\n",
      "Data:\n",
      "[[[-0.09977341  0.46922637]\n",
      "  [-0.24597474  0.03457376]\n",
      "  [-0.53442601 -0.43959272]\n",
      "  [-0.67667595 -0.71618983]\n",
      "  [-0.71223844 -0.83473145]]\n",
      "\n",
      " [[-0.24597474  0.03457376]\n",
      "  [-0.53442601 -0.43959272]\n",
      "  [-0.67667595 -0.71618983]\n",
      "  [-0.71223844 -0.83473145]\n",
      "  [-0.82682867 -0.73594676]]\n",
      "\n",
      " [[-0.53442601 -0.43959272]\n",
      "  [-0.67667595 -0.71618983]\n",
      "  [-0.71223844 -0.83473145]\n",
      "  [-0.82682867 -0.73594676]\n",
      "  [-0.94932168 -0.5383774 ]]\n",
      "\n",
      " [[-0.67667595 -0.71618983]\n",
      "  [-0.71223844 -0.83473145]\n",
      "  [-0.82682867 -0.73594676]\n",
      "  [-0.94932168 -0.5383774 ]\n",
      "  [-1.02044665 -0.63716208]]\n",
      "\n",
      " [[-0.71223844 -0.83473145]\n",
      "  [-0.82682867 -0.73594676]\n",
      "  [-0.94932168 -0.5383774 ]\n",
      "  [-1.02044665 -0.63716208]\n",
      "  [-1.03230081 -0.69643289]]]\n",
      "Likelihoods:\n",
      "[1.61032496e-21 1.34283210e-17 2.41742462e-13 1.78957789e-11\n",
      " 2.41561575e-11]\n",
      "  1/183 [..............................] - ETA: 3s"
     ]
    },
    {
     "name": "stderr",
     "output_type": "stream",
     "text": [
      "/Users/kirsh012/opt/anaconda3/envs/tf/lib/python3.10/site-packages/sklearn/metrics/_classification.py:1599: UndefinedMetricWarning: F-score is ill-defined and being set to 0.0 due to no true nor predicted samples. Use `zero_division` parameter to control this behavior.\n",
      "  _warn_prf(average, \"true nor predicted\", \"F-score is\", len(true_sum))\n"
     ]
    },
    {
     "name": "stdout",
     "output_type": "stream",
     "text": [
      "183/183 [==============================] - 1s 3ms/step\n",
      "Test AU-ROC:  0.008499313186813203\n",
      "Test AU-PRC:  0.0010342450575084308\n",
      "F-0.1 Score:  0.0\n"
     ]
    }
   ],
   "source": [
    "tcr = ThresholdEstimator()\n",
    "\n",
    "tcr.fit(conv_model, val_data, y_val)\n",
    "\n",
    "ctest_preds, ctest_labels = tcr.predict(conv_model, test_data, y_test)\n",
    "\n",
    "cfpr_test, ctpr_test, cthresh_test = roc_curve(y_test, ctest_preds)\n",
    "cppr_test, crec_test, cpthresh_test = precision_recall_curve(y_test, ctest_preds)\n",
    "\n",
    "print(\"Test AU-ROC: \", auc(cfpr_test, ctpr_test))\n",
    "print(\"Test AU-PRC: \", auc(crec_test, cppr_test))\n",
    "print(\"F-0.1 Score: \", fbeta_score(y_test, ctest_labels, beta=1))"
   ]
  },
  {
   "cell_type": "code",
   "execution_count": 182,
   "id": "e54a8d14",
   "metadata": {},
   "outputs": [],
   "source": [
    "# def get_optimal_threshold(errors, target):\n",
    "\n",
    "#     # Estimate the normal distribution of the errors\n",
    "#     mu_vector  = np.mean(errors, axis = 0)\n",
    "#     cov_matrix = np.cov(errors)\n",
    "\n",
    "#     likelihoods = norm.pdf(errors, loc=mu_vector, scale=cov_matrix) * errors\n",
    "#     print(likelihoods[:5])\n",
    "#     f_list = []\n",
    "#     thresholds = np.arange(min(likelihoods), max(likelihoods), 0.001)\n",
    "#     print(thresholds)\n",
    "#     for t in thresholds:\n",
    "\n",
    "#         preds = (likelihoods<t).astype(int)\n",
    "#         f = fbeta_score(target, preds, beta=0.1)\n",
    "#         f_list.append(f)\n",
    "\n",
    "#     best_threshold = np.argmax(f_list)\n",
    "\n",
    "#     return likelihoods, thresholds[best_threshold]\n",
    "\n",
    "def compress_array(array):\n",
    "     compressed_array = [array[sample, array.shape[1]-1, :] for sample in range(array.shape[0])]\n",
    "    \n",
    "     return compressed_array\n",
    "\n",
    "# def reconstruct(model, data, target, threshold=None):\n",
    "#     reconstructions = model.predict(data)\n",
    "#     errors = tf.keras.losses.mae(compress_array(reconstructions), compress_array(data))\n",
    "\n",
    "#     if threshold is None:\n",
    "#         errors, threshold = get_optimal_threshold(errors, target)\n",
    "# # \n",
    "#     #preds = predict_scores(model, data, threshold)\n",
    "\n",
    "#     return errors, threshold"
   ]
  },
  {
   "cell_type": "markdown",
   "id": "1988c622",
   "metadata": {},
   "source": [
    "### Reconstruction Comparison"
   ]
  },
  {
   "cell_type": "code",
   "execution_count": 39,
   "id": "0182648c",
   "metadata": {},
   "outputs": [
    {
     "name": "stdout",
     "output_type": "stream",
     "text": [
      "74/74 [==============================] - 0s 2ms/step\n"
     ]
    }
   ],
   "source": [
    "reconstructions = conv_model.predict(train_data)\n",
    "errors = tf.keras.losses.mae(compress_array(reconstructions), compress_array(train_data))"
   ]
  },
  {
   "cell_type": "code",
   "execution_count": 40,
   "id": "161598f3",
   "metadata": {},
   "outputs": [
    {
     "data": {
      "text/plain": [
       "<AxesSubplot:ylabel='Count'>"
      ]
     },
     "execution_count": 40,
     "metadata": {},
     "output_type": "execute_result"
    },
    {
     "data": {
      "image/png": "[encoded data removed]",
      "text/plain": [
       "<Figure size 640x480 with 1 Axes>"
      ]
     },
     "metadata": {},
     "output_type": "display_data"
    }
   ],
   "source": [
    "sns.histplot(errors)"
   ]
  },
  {
   "cell_type": "code",
   "execution_count": 41,
   "id": "b34fc1bc",
   "metadata": {},
   "outputs": [
    {
     "name": "stdout",
     "output_type": "stream",
     "text": [
      "56/56 [==============================] - 0s 3ms/step\n"
     ]
    }
   ],
   "source": [
    "val_reconstructions = conv_model.predict(val_data)\n",
    "val_errors = tf.keras.losses.mae(compress_array(val_reconstructions), compress_array(val_data))"
   ]
  },
  {
   "cell_type": "code",
   "execution_count": 28,
   "id": "5250af96",
   "metadata": {},
   "outputs": [
    {
     "data": {
      "text/plain": [
       "array([0, 1])"
      ]
     },
     "execution_count": 28,
     "metadata": {},
     "output_type": "execute_result"
    }
   ],
   "source": [
    "np.unique(test_labels)"
   ]
  },
  {
   "cell_type": "code",
   "execution_count": 29,
   "id": "c30b876a",
   "metadata": {},
   "outputs": [
    {
     "ename": "NameError",
     "evalue": "name 'mu_vector' is not defined",
     "output_type": "error",
     "traceback": [
      "\u001b[0;31m---------------------------------------------------------------------------\u001b[0m",
      "\u001b[0;31mNameError\u001b[0m                                 Traceback (most recent call last)",
      "Input \u001b[0;32mIn [29]\u001b[0m, in \u001b[0;36m<cell line: 3>\u001b[0;34m()\u001b[0m\n\u001b[1;32m      1\u001b[0m \u001b[38;5;28;01mfrom\u001b[39;00m \u001b[38;5;21;01mscipy\u001b[39;00m\u001b[38;5;21;01m.\u001b[39;00m\u001b[38;5;21;01mstats\u001b[39;00m \u001b[38;5;28;01mimport\u001b[39;00m norm\n\u001b[0;32m----> 3\u001b[0m norm\u001b[38;5;241m.\u001b[39mpdf(errors, loc\u001b[38;5;241m=\u001b[39m\u001b[43mmu_vector\u001b[49m, scale \u001b[38;5;241m=\u001b[39m cov_matrix)\n",
      "\u001b[0;31mNameError\u001b[0m: name 'mu_vector' is not defined"
     ]
    }
   ],
   "source": [
    "from scipy.stats import norm\n",
    "\n",
    "norm.pdf(errors, loc=mu_vector, scale = cov_matrix)"
   ]
  },
  {
   "cell_type": "code",
   "execution_count": null,
   "id": "e88495bb",
   "metadata": {},
   "outputs": [],
   "source": [
    "multivariate_normal.pdf(errors, mean=mu_vector, cov=cov_matrix)"
   ]
  },
  {
   "cell_type": "code",
   "execution_count": 42,
   "id": "9d079af9",
   "metadata": {},
   "outputs": [
    {
     "data": {
      "text/plain": [
       "<AxesSubplot:ylabel='Count'>"
      ]
     },
     "execution_count": 42,
     "metadata": {},
     "output_type": "execute_result"
    },
    {
     "data": {
      "image/png": "[encoded data removed]",
      "text/plain": [
       "<Figure size 640x480 with 1 Axes>"
      ]
     },
     "metadata": {},
     "output_type": "display_data"
    }
   ],
   "source": [
    "sns.histplot(val_errors)"
   ]
  },
  {
   "cell_type": "code",
   "execution_count": 43,
   "id": "aef6e3be",
   "metadata": {},
   "outputs": [
    {
     "name": "stdout",
     "output_type": "stream",
     "text": [
      "2/2 [==============================] - 0s 3ms/step\n"
     ]
    }
   ],
   "source": [
    "atrain_reconstructions = conv_model.predict(anomalous_train)\n",
    "atrain_errors = tf.keras.losses.mae(compress_array(atrain_reconstructions), compress_array(anomalous_train))"
   ]
  },
  {
   "cell_type": "code",
   "execution_count": 44,
   "id": "e8b20171",
   "metadata": {},
   "outputs": [
    {
     "data": {
      "text/plain": [
       "<AxesSubplot:ylabel='Count'>"
      ]
     },
     "execution_count": 44,
     "metadata": {},
     "output_type": "execute_result"
    },
    {
     "data": {
      "image/png": "[encoded data removed]",
      "text/plain": [
       "<Figure size 640x480 with 1 Axes>"
      ]
     },
     "metadata": {},
     "output_type": "display_data"
    }
   ],
   "source": [
    "sns.histplot(atrain_errors)"
   ]
  },
  {
   "cell_type": "code",
   "execution_count": 45,
   "id": "41e745e9",
   "metadata": {},
   "outputs": [
    {
     "name": "stdout",
     "output_type": "stream",
     "text": [
      "1/1 [==============================] - 0s 20ms/step\n"
     ]
    },
    {
     "data": {
      "text/plain": [
       "<AxesSubplot:ylabel='Count'>"
      ]
     },
     "execution_count": 45,
     "metadata": {},
     "output_type": "execute_result"
    },
    {
     "data": {
      "image/png": "[encoded data removed]",
      "text/plain": [
       "<Figure size 640x480 with 1 Axes>"
      ]
     },
     "metadata": {},
     "output_type": "display_data"
    }
   ],
   "source": [
    "aval_reconstructions = conv_model.predict(anomalous_val)\n",
    "aval_errors = tf.keras.losses.mae(compress_array(aval_reconstructions), compress_array(anomalous_val))\n",
    "\n",
    "sns.histplot(aval_errors)"
   ]
  },
  {
   "cell_type": "code",
   "execution_count": null,
   "id": "bbc1ba32",
   "metadata": {},
   "outputs": [],
   "source": [
    "### See the reconstruction loss on the Training Dataset\n",
    "train_scores, threshold = reconstruct(autoencoder, train_data, y_train, threshold=None)"
   ]
  },
  {
   "cell_type": "code",
   "execution_count": null,
   "id": "5ad66465",
   "metadata": {},
   "outputs": [],
   "source": [
    "threshold"
   ]
  },
  {
   "cell_type": "code",
   "execution_count": null,
   "id": "e65f49fd",
   "metadata": {},
   "outputs": [],
   "source": [
    "len(train_scores)"
   ]
  },
  {
   "cell_type": "code",
   "execution_count": null,
   "id": "c7a2c242",
   "metadata": {},
   "outputs": [],
   "source": [
    "sum(train_scores> threshold)"
   ]
  },
  {
   "cell_type": "code",
   "execution_count": null,
   "id": "550a2dcd",
   "metadata": {},
   "outputs": [],
   "source": [
    "val_scores, _ = reconstruct(autoencoder, val_data, y_val, threshold = threshold)"
   ]
  },
  {
   "cell_type": "code",
   "execution_count": null,
   "id": "e46d05c3",
   "metadata": {},
   "outputs": [],
   "source": [
    "val_scores"
   ]
  },
  {
   "cell_type": "code",
   "execution_count": null,
   "id": "2499f09c",
   "metadata": {},
   "outputs": [],
   "source": [
    "### Run hypertuning\n",
    "tuner = kt.Hyperband(model,\n",
    "                        objective='val_loss',\n",
    "                        max_epochs=100,\n",
    "                        factor=3,\n",
    "                        overwrite=True,\n",
    "                        directory='test-3-jk',\n",
    "                        project_name='lstm-autoencoder')\n",
    "\n",
    "# Run the hypertuning search\n",
    "tuner.search(train_data, train_data, epochs=50, validation_data = (val_data, val_data), batch_size=512,\n",
    "            callbacks=[early_stopping], class_weight=train_weights)"
   ]
  },
  {
   "cell_type": "code",
   "execution_count": null,
   "id": "ef8de63e",
   "metadata": {},
   "outputs": [],
   "source": []
  }
 ],
 "metadata": {
  "kernelspec": {
   "display_name": "Python 3 (ipykernel)",
   "language": "python",
   "name": "python3"
  },
  "language_info": {
   "codemirror_mode": {
    "name": "ipython",
    "version": 3
   },
   "file_extension": ".py",
   "mimetype": "text/x-python",
   "name": "python",
   "nbconvert_exporter": "python",
   "pygments_lexer": "ipython3",
   "version": "3.10.4"
  }
 },
 "nbformat": 4,
 "nbformat_minor": 5
}
