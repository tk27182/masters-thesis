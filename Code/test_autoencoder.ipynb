{
 "cells": [
  {
   "cell_type": "code",
   "execution_count": 202,
   "id": "2cc792c9",
   "metadata": {},
   "outputs": [],
   "source": [
    "import sys\n",
    "import shutil\n",
    "import time\n",
    "import resource\n",
    "import json\n",
    "from pathlib import Path\n",
    "\n",
    "from scipy.stats import multivariate_normal, norm\n",
    "\n",
    "import tensorflow as tf\n",
    "import keras_tuner as kt\n",
    "from tensorflow.keras.callbacks import EarlyStopping, Callback\n",
    "#from keras.metrics import AUC, RootMeanSquaredError\n",
    "from tensorflow.keras.models import Model\n",
    "\n",
    "import numpy as np\n",
    "import pandas as pd\n",
    "from sklearn.utils import class_weight\n",
    "from sklearn.metrics import (r2_score, auc, roc_curve, roc_auc_score, \n",
    "                            log_loss, fbeta_score,precision_recall_curve,\n",
    "                             mean_absolute_error\n",
    "                            )\n",
    "\n",
    "import nn_models as nnm\n",
    "import dataprocessing as dp\n",
    "import visualization as viz"
   ]
  },
  {
   "cell_type": "code",
   "execution_count": 2,
   "id": "c1d90ed2",
   "metadata": {},
   "outputs": [],
   "source": [
    "import matplotlib.pyplot as plt\n",
    "import seaborn as sns"
   ]
  },
  {
   "cell_type": "markdown",
   "id": "27230d1c",
   "metadata": {},
   "source": [
    "# Try Normalization Layer"
   ]
  },
  {
   "cell_type": "code",
   "execution_count": 193,
   "id": "be940f0f",
   "metadata": {},
   "outputs": [],
   "source": [
    "class FunctionalLSTMAutoEncoder(Model):\n",
    "    def __init__(self, timesteps, input_dim, lstm_dim, batch_size):\n",
    "        super(FunctionalLSTMAutoEncoder, self).__init__()\n",
    "        self.timesteps = timesteps\n",
    "        self.input_dim = input_dim\n",
    "        self.lstm_dim  = lstm_dim\n",
    "        \n",
    "        #self.input_layer = tf.keras.Input(shape=(self.timesteps, self.input_dim))\n",
    "        self.lstm1 = tf.keras.layers.LSTM(self.lstm_dim, input_shape=(self.timesteps, self.input_dim),\n",
    "                                          return_sequences=False)\n",
    "        self.code_layer = tf.keras.layers.RepeatVector(self.timesteps)\n",
    "        self.lstm2 = tf.keras.layers.LSTM(self.lstm_dim, return_sequences=True)\n",
    "        self.td_layer = tf.keras.layers.TimeDistributed(tf.keras.layers.Dense(self.input_dim))\n",
    "        \n",
    "    def call(self, x):\n",
    "        \n",
    "        #x = self.input_layer(x)\n",
    "        x = self.lstm1(x)\n",
    "        x = self.code_layer(x)\n",
    "        x = self.lstm2(x)\n",
    "        x = self.td_layer(x)\n",
    "        return x\n",
    "    \n",
    "    def build_graph(self):\n",
    "        x = tf.keras.layers.Input(shape=(self.timesteps, self.input_dim),)\n",
    "        return Model(inputs=[x], outputs=self.call(x))"
   ]
  },
  {
   "cell_type": "code",
   "execution_count": 158,
   "id": "7e2513a6",
   "metadata": {},
   "outputs": [],
   "source": [
    "class LSTMAutoEncoder(Model):\n",
    "    def __init__(self, timesteps, input_dim, lstm_dim, batch_size):\n",
    "        super(LSTMAutoEncoder, self).__init__()\n",
    "        self.timesteps = timesteps\n",
    "        self.input_dim = input_dim\n",
    "        self.lstm_dim  = lstm_dim\n",
    "        self.batch_size = batch_size\n",
    "\n",
    "        self.encoder = tf.keras.models.Sequential()\n",
    "        self.encoder.add(tf.keras.Input(shape=(self.timesteps, self.input_dim), ))\n",
    "                                       #batch_input_shape=(self.batch_size, self.timesteps, self.input_dim),))\n",
    "        #self.encoder.add(tf.keras.layers.Normalization(axis = [0,-1]))\n",
    "        #self.encoder.add(tf.keras.layers.LSTM(self.lstm_dim*2, activation='relu', return_sequences=True))\n",
    "        self.encoder.add(tf.keras.layers.LSTM(self.lstm_dim, \n",
    "                                              #kernel_regularizer=tf.keras.regularizers.L2(),\n",
    "                                              kernel_initializer='random_uniform',\n",
    "                                              #bias_regularizer=tf.keras.regularizers.L2(1e-4),\n",
    "                                              bias_initializer = 'random_normal',\n",
    "                                              #stateful=True,\n",
    "                                              return_sequences=False, \n",
    "                                              name = \"encoder\"))\n",
    "\n",
    "        self.decoder = tf.keras.models.Sequential()\n",
    "        self.decoder.add(tf.keras.layers.RepeatVector(self.timesteps))\n",
    "        self.decoder.add(tf.keras.layers.LSTM(self.input_dim, \n",
    "                                              #kernel_regularizer=tf.keras.regularizers.L2(),\n",
    "                                              kernel_initializer='random_uniform',\n",
    "                                              #bias_regularizer=tf.keras.regularizers.L2(1e-4),\n",
    "                                              bias_initializer = 'random_normal',\n",
    "                                              #stateful=True,\n",
    "                                         return_sequences=True, name = 'decoder'))\n",
    "        #self.decoder.add(tf.keras.layers.LSTM(self.lstm_dim*2, activation='relu', return_sequences=True))\n",
    "        \n",
    "        self.decoder.add(tf.keras.layers.TimeDistributed(\n",
    "                                tf.keras.layers.Dense(self.input_dim)\n",
    "        ))\n",
    "\n",
    "    def call(self, x):\n",
    "        encoded = self.encoder(x)\n",
    "        decoded = self.decoder(encoded)\n",
    "        return decoded\n",
    "    \n",
    "    # AFAIK: The most convenient method to print model.summary() \n",
    "    # similar to the sequential or functional API like.\n",
    "    def build_graph(self):\n",
    "        x = tf.keras.layers.Input(shape=(self.timesteps, self.input_dim),)\n",
    "        return Model(inputs=[x], outputs=self.call(x))"
   ]
  },
  {
   "cell_type": "code",
   "execution_count": 242,
   "id": "1fde0138",
   "metadata": {},
   "outputs": [],
   "source": [
    "### Test running the model\n",
    "loss = 'mean_squared_error'\n",
    "TIME_STEPS = 2\n",
    "BATCH_SIZE = 32\n",
    "num_features = 24\n",
    "\n",
    "### Define early stopping\n",
    "early_stopping = tf.keras.callbacks.EarlyStopping(monitor='val_loss',\n",
    "                                                    patience=5,\n",
    "                                                    mode='min')\n",
    "\n",
    "\n",
    "\n",
    "#model = nnm.HyperLSTMAutoEncoder(loss=loss, time_steps=TIME_STEPS, num_features=num_features)"
   ]
  },
  {
   "cell_type": "code",
   "execution_count": 160,
   "id": "f48eabc9",
   "metadata": {},
   "outputs": [
    {
     "name": "stdout",
     "output_type": "stream",
     "text": [
      "The beginning shape is:  (10221, 99)\n",
      "After dropping rows with NaN in the SH_Event columns, the shape is:  (10011, 99)\n",
      "NaN values in this dataset:  False\n",
      "The left data frame set shape is:  (10011, 48)\n",
      "The right data frame set shape is:  (10011, 48)\n",
      "The keep left data frame set shape is:  (10011, 24)\n",
      "The keep right data frame set shape is:  (10011, 24)\n",
      "Not adding fake positive data samples.\n",
      "Index(['t25_l', 't26_l', 't27_l', 't28_l', 't29_l', 't30_l', 't31_l', 't32_l',\n",
      "       't33_l', 't34_l', 't35_l', 't36_l', 't37_l', 't38_l', 't39_l', 't40_l',\n",
      "       't41_l', 't42_l', 't43_l', 't44_l', 't45_l', 't46_l', 't47_l', 't48_l'],\n",
      "      dtype='object')\n",
      "Index(['t25_r', 't26_r', 't27_r', 't28_r', 't29_r', 't30_r', 't31_r', 't32_r',\n",
      "       't33_r', 't34_r', 't35_r', 't36_r', 't37_r', 't38_r', 't39_r', 't40_r',\n",
      "       't41_r', 't42_r', 't43_r', 't44_r', 't45_r', 't46_r', 't47_r', 't48_r'],\n",
      "      dtype='object')\n"
     ]
    }
   ],
   "source": [
    "### Load the data\n",
    "data, target = dp.create_featured_dataset('3-jk', sensor='both', dlh=0, \n",
    "                                          keep_SH=False, keep_event=True, smote=None)"
   ]
  },
  {
   "cell_type": "code",
   "execution_count": 194,
   "id": "dc381938",
   "metadata": {},
   "outputs": [
    {
     "name": "stdout",
     "output_type": "stream",
     "text": [
      "Train labels shape:  (2380,)\n",
      "Test labels shape:  (5836,)\n",
      "Val labels shape:  (1795,)\n",
      "Normal train data shape is:  (2345, 24, 2)\n",
      "Normal test data shape is:  (5824, 24, 2)\n",
      "Normal val data shape is:  (1783, 24, 2)\n",
      "Anomalous train data shape is:  (35, 24, 2)\n",
      "Anomalous test data shape is:  (12, 24, 2)\n",
      "Anomalous val data shape is:  (12, 24, 2)\n",
      "Anomalous train data shape is:  (35, 24, 2)\n",
      "Anomalous val data shape is:  (12, 24, 2)\n"
     ]
    }
   ],
   "source": [
    "### Split the data into train, val, and testing\n",
    "target = np.where(target == 1, 1, 0)\n",
    "\n",
    "train_idx, val_idx, test_idx = dp.split_data_cv_indx(data,target)\n",
    "\n",
    "# Prepare data for the autoencoder model\n",
    "normal, anomalous = dp.process_autoencoder(data[train_idx], data[test_idx], data[val_idx],\n",
    "                                           target[train_idx], target[test_idx], target[val_idx])\n",
    "\n",
    "normal_train, normal_val, normal_train_target, normal_val_target             = normal\n",
    "anomalous_train, anomalous_val, anomalous_train_target, anomalous_val_target = anomalous\n",
    "\n",
    "# Try Normalizing the data\n",
    "#scaled_normal_train, scaled_test, scaled_normal_val = dp.normalize_data(normal_train, data[test_idx], normal_val)\n",
    "\n",
    "train_data = normal_train # scaled_normal_train #\n",
    "y_train    = normal_train_target\n",
    "\n",
    "test_data  = data[test_idx] #scaled_test #\n",
    "y_test     = target[test_idx]\n",
    "\n",
    "val_data   = normal_val #scaled_normal_val #\n",
    "y_val      = normal_val_target\n",
    "\n",
    "print(\"Anomalous train data shape is: \", anomalous_train.shape)\n",
    "print(\"Anomalous val data shape is: \", anomalous_val.shape)"
   ]
  },
  {
   "cell_type": "code",
   "execution_count": 195,
   "id": "8d5502dc",
   "metadata": {},
   "outputs": [
    {
     "data": {
      "text/plain": [
       "array([[[118.8, 124. ],\n",
       "        [120.6, 116. ],\n",
       "        [130.6, 132. ],\n",
       "        [141.8, 154. ],\n",
       "        [147.2, 155. ],\n",
       "        [147.2, 146. ],\n",
       "        [145.4, 133. ],\n",
       "        [143.4, 105. ],\n",
       "        [143. , 100. ],\n",
       "        [139.8, 132. ],\n",
       "        [131.8, 132. ],\n",
       "        [116.4, 108. ],\n",
       "        [ 95.4,  82. ],\n",
       "        [ 79. ,  70. ],\n",
       "        [ 71.2,  66. ],\n",
       "        [ 65.2,  59. ],\n",
       "        [ 59.2,  52. ],\n",
       "        [ 53.2,  41. ],\n",
       "        [ 46.4,  40. ],\n",
       "        [ 41. ,  40. ],\n",
       "        [ 40. ,  40. ],\n",
       "        [ 40. ,  40. ],\n",
       "        [ 40. ,  40. ],\n",
       "        [ 40. ,  40. ]],\n",
       "\n",
       "       [[120.6, 116. ],\n",
       "        [130.6, 132. ],\n",
       "        [141.8, 154. ],\n",
       "        [147.2, 155. ],\n",
       "        [147.2, 146. ],\n",
       "        [145.4, 133. ],\n",
       "        [143.4, 105. ],\n",
       "        [143. , 100. ],\n",
       "        [139.8, 132. ],\n",
       "        [131.8, 132. ],\n",
       "        [116.4, 108. ],\n",
       "        [ 95.4,  82. ],\n",
       "        [ 79. ,  70. ],\n",
       "        [ 71.2,  66. ],\n",
       "        [ 65.2,  59. ],\n",
       "        [ 59.2,  52. ],\n",
       "        [ 53.2,  41. ],\n",
       "        [ 46.4,  40. ],\n",
       "        [ 41. ,  40. ],\n",
       "        [ 40. ,  40. ],\n",
       "        [ 40. ,  40. ],\n",
       "        [ 40. ,  40. ],\n",
       "        [ 40. ,  40. ],\n",
       "        [ 52.8,  54. ]],\n",
       "\n",
       "       [[130.6, 132. ],\n",
       "        [141.8, 154. ],\n",
       "        [147.2, 155. ],\n",
       "        [147.2, 146. ],\n",
       "        [145.4, 133. ],\n",
       "        [143.4, 105. ],\n",
       "        [143. , 100. ],\n",
       "        [139.8, 132. ],\n",
       "        [131.8, 132. ],\n",
       "        [116.4, 108. ],\n",
       "        [ 95.4,  82. ],\n",
       "        [ 79. ,  70. ],\n",
       "        [ 71.2,  66. ],\n",
       "        [ 65.2,  59. ],\n",
       "        [ 59.2,  52. ],\n",
       "        [ 53.2,  41. ],\n",
       "        [ 46.4,  40. ],\n",
       "        [ 41. ,  40. ],\n",
       "        [ 40. ,  40. ],\n",
       "        [ 40. ,  40. ],\n",
       "        [ 40. ,  40. ],\n",
       "        [ 40. ,  40. ],\n",
       "        [ 52.8,  54. ],\n",
       "        [ 88. ,  88. ]],\n",
       "\n",
       "       [[141.8, 154. ],\n",
       "        [147.2, 155. ],\n",
       "        [147.2, 146. ],\n",
       "        [145.4, 133. ],\n",
       "        [143.4, 105. ],\n",
       "        [143. , 100. ],\n",
       "        [139.8, 132. ],\n",
       "        [131.8, 132. ],\n",
       "        [116.4, 108. ],\n",
       "        [ 95.4,  82. ],\n",
       "        [ 79. ,  70. ],\n",
       "        [ 71.2,  66. ],\n",
       "        [ 65.2,  59. ],\n",
       "        [ 59.2,  52. ],\n",
       "        [ 53.2,  41. ],\n",
       "        [ 46.4,  40. ],\n",
       "        [ 41. ,  40. ],\n",
       "        [ 40. ,  40. ],\n",
       "        [ 40. ,  40. ],\n",
       "        [ 40. ,  40. ],\n",
       "        [ 40. ,  40. ],\n",
       "        [ 52.8,  54. ],\n",
       "        [ 88. ,  88. ],\n",
       "        [103.2, 106. ]],\n",
       "\n",
       "       [[147.2, 155. ],\n",
       "        [147.2, 146. ],\n",
       "        [145.4, 133. ],\n",
       "        [143.4, 105. ],\n",
       "        [143. , 100. ],\n",
       "        [139.8, 132. ],\n",
       "        [131.8, 132. ],\n",
       "        [116.4, 108. ],\n",
       "        [ 95.4,  82. ],\n",
       "        [ 79. ,  70. ],\n",
       "        [ 71.2,  66. ],\n",
       "        [ 65.2,  59. ],\n",
       "        [ 59.2,  52. ],\n",
       "        [ 53.2,  41. ],\n",
       "        [ 46.4,  40. ],\n",
       "        [ 41. ,  40. ],\n",
       "        [ 40. ,  40. ],\n",
       "        [ 40. ,  40. ],\n",
       "        [ 40. ,  40. ],\n",
       "        [ 40. ,  40. ],\n",
       "        [ 52.8,  54. ],\n",
       "        [ 88. ,  88. ],\n",
       "        [103.2, 106. ],\n",
       "        [107.4, 128. ]]])"
      ]
     },
     "execution_count": 195,
     "metadata": {},
     "output_type": "execute_result"
    }
   ],
   "source": [
    "train_data[:5]"
   ]
  },
  {
   "cell_type": "code",
   "execution_count": 162,
   "id": "68243ae1",
   "metadata": {},
   "outputs": [
    {
     "data": {
      "text/plain": [
       "1"
      ]
     },
     "execution_count": 162,
     "metadata": {},
     "output_type": "execute_result"
    }
   ],
   "source": [
    "np.gcd.reduce([train_data.shape[0], test_data.shape[0], val_data.shape[0], anomalous_train.shape[0]])"
   ]
  },
  {
   "cell_type": "code",
   "execution_count": 163,
   "id": "07a8174b",
   "metadata": {},
   "outputs": [
    {
     "data": {
      "text/plain": [
       "<tf.Tensor: shape=(2, 2, 3), dtype=float32, numpy=\n",
       "array([[[1., 2., 3.],\n",
       "        [4., 5., 6.]],\n",
       "\n",
       "       [[0., 0., 0.],\n",
       "        [1., 1., 1.]]], dtype=float32)>"
      ]
     },
     "execution_count": 163,
     "metadata": {},
     "output_type": "execute_result"
    }
   ],
   "source": [
    "A = np.array([[[1,2,3], [4,5,6]], [[0,0,0], [1,1,1]]])\n",
    "test_layer = tf.keras.layers.Normalization(axis=-1)\n",
    "#test_layer.adapt(A)\n",
    "test_layer(A)"
   ]
  },
  {
   "cell_type": "code",
   "execution_count": 164,
   "id": "3ae72ae3",
   "metadata": {},
   "outputs": [
    {
     "name": "stdout",
     "output_type": "stream",
     "text": [
      "No train weights assigned for autoencoder\n"
     ]
    }
   ],
   "source": [
    "train_weights = {0: 1, 1: 1}\n",
    "print(\"No train weights assigned for autoencoder\")"
   ]
  },
  {
   "cell_type": "code",
   "execution_count": 241,
   "id": "02396a17",
   "metadata": {},
   "outputs": [],
   "source": [
    "# Reshape the datasets\n",
    "train_data = np.reshape(train_data, (train_data.shape[0], train_data.shape[2], train_data.shape[1]))\n",
    "test_data  = np.reshape(test_data, (test_data.shape[0], test_data.shape[2], test_data.shape[1]))\n",
    "val_data   = np.reshape(val_data, (val_data.shape[0], val_data.shape[2], val_data.shape[1]))"
   ]
  },
  {
   "cell_type": "code",
   "execution_count": null,
   "id": "65311b1d",
   "metadata": {},
   "outputs": [],
   "source": []
  },
  {
   "cell_type": "code",
   "execution_count": 243,
   "id": "b56beda6",
   "metadata": {},
   "outputs": [
    {
     "name": "stdout",
     "output_type": "stream",
     "text": [
      "Epoch 1/5000\n",
      "66/66 [==============================] - 5s 18ms/step - loss: 14513.1221 - val_loss: 13915.9287\n",
      "Epoch 2/5000\n",
      "66/66 [==============================] - 0s 5ms/step - loss: 13216.1816 - val_loss: 12060.6748\n",
      "Epoch 3/5000\n",
      "66/66 [==============================] - 0s 5ms/step - loss: 11371.1299 - val_loss: 10234.2773\n",
      "Epoch 4/5000\n",
      "66/66 [==============================] - 0s 4ms/step - loss: 9745.2607 - val_loss: 8714.5752\n",
      "Epoch 5/5000\n",
      "66/66 [==============================] - 0s 4ms/step - loss: 8415.7549 - val_loss: 7476.3848\n",
      "Epoch 6/5000\n",
      "66/66 [==============================] - 0s 4ms/step - loss: 7337.1562 - val_loss: 6468.1865\n",
      "Epoch 7/5000\n",
      "66/66 [==============================] - 0s 5ms/step - loss: 6462.8486 - val_loss: 5647.7349\n",
      "Epoch 8/5000\n",
      "66/66 [==============================] - 0s 4ms/step - loss: 5753.9160 - val_loss: 4979.0674\n",
      "Epoch 9/5000\n",
      "66/66 [==============================] - 0s 5ms/step - loss: 5179.7964 - val_loss: 4434.9980\n",
      "Epoch 10/5000\n",
      "66/66 [==============================] - 0s 5ms/step - loss: 4714.4961 - val_loss: 3991.1060\n",
      "Epoch 11/5000\n",
      "66/66 [==============================] - 0s 4ms/step - loss: 4337.3789 - val_loss: 3629.1035\n",
      "Epoch 12/5000\n",
      "66/66 [==============================] - 0s 4ms/step - loss: 4031.7029 - val_loss: 3333.4426\n",
      "Epoch 13/5000\n",
      "66/66 [==============================] - 0s 4ms/step - loss: 3783.7817 - val_loss: 3091.4587\n",
      "Epoch 14/5000\n",
      "66/66 [==============================] - 0s 4ms/step - loss: 3582.6677 - val_loss: 2893.9668\n",
      "Epoch 15/5000\n",
      "66/66 [==============================] - 0s 4ms/step - loss: 3419.9016 - val_loss: 2732.3235\n",
      "Epoch 16/5000\n",
      "66/66 [==============================] - 0s 4ms/step - loss: 3287.7700 - val_loss: 2599.6924\n",
      "Epoch 17/5000\n",
      "66/66 [==============================] - 0s 4ms/step - loss: 3180.7571 - val_loss: 2490.9116\n",
      "Epoch 18/5000\n",
      "66/66 [==============================] - 0s 4ms/step - loss: 3093.9216 - val_loss: 2401.6714\n",
      "Epoch 19/5000\n",
      "66/66 [==============================] - 0s 4ms/step - loss: 3023.6697 - val_loss: 2328.5269\n",
      "Epoch 20/5000\n",
      "66/66 [==============================] - 0s 4ms/step - loss: 2966.7302 - val_loss: 2268.1248\n",
      "Epoch 21/5000\n",
      "66/66 [==============================] - 0s 4ms/step - loss: 2920.5564 - val_loss: 2218.3232\n",
      "Epoch 22/5000\n",
      "66/66 [==============================] - 0s 4ms/step - loss: 2883.0664 - val_loss: 2177.3135\n",
      "Epoch 23/5000\n",
      "66/66 [==============================] - 0s 4ms/step - loss: 2852.7988 - val_loss: 2143.3486\n",
      "Epoch 24/5000\n",
      "66/66 [==============================] - 0s 4ms/step - loss: 2828.2664 - val_loss: 2115.4636\n",
      "Epoch 25/5000\n",
      "66/66 [==============================] - 0s 4ms/step - loss: 2808.4412 - val_loss: 2092.1306\n",
      "Epoch 26/5000\n",
      "66/66 [==============================] - 0s 4ms/step - loss: 2792.3496 - val_loss: 2072.8323\n",
      "Epoch 27/5000\n",
      "66/66 [==============================] - 0s 4ms/step - loss: 2779.3130 - val_loss: 2056.6738\n",
      "Epoch 28/5000\n",
      "66/66 [==============================] - 0s 4ms/step - loss: 2768.6987 - val_loss: 2043.2000\n",
      "Epoch 29/5000\n",
      "66/66 [==============================] - 0s 5ms/step - loss: 2760.1277 - val_loss: 2031.8774\n",
      "Epoch 30/5000\n",
      "66/66 [==============================] - 0s 4ms/step - loss: 2753.1211 - val_loss: 2022.3042\n",
      "Epoch 31/5000\n",
      "66/66 [==============================] - 0s 5ms/step - loss: 2747.4143 - val_loss: 2014.2772\n",
      "Epoch 32/5000\n",
      "66/66 [==============================] - 0s 4ms/step - loss: 2742.8020 - val_loss: 2007.5410\n",
      "Epoch 33/5000\n",
      "66/66 [==============================] - 0s 5ms/step - loss: 2739.0859 - val_loss: 2001.8069\n",
      "Epoch 34/5000\n",
      "66/66 [==============================] - 0s 4ms/step - loss: 2736.0420 - val_loss: 1996.9387\n",
      "Epoch 35/5000\n",
      "66/66 [==============================] - 0s 4ms/step - loss: 2733.5793 - val_loss: 1992.8394\n",
      "Epoch 36/5000\n",
      "66/66 [==============================] - 0s 4ms/step - loss: 2731.5896 - val_loss: 1989.2811\n",
      "Epoch 37/5000\n",
      "66/66 [==============================] - 0s 4ms/step - loss: 2729.9478 - val_loss: 1986.2905\n",
      "Epoch 38/5000\n",
      "66/66 [==============================] - 0s 4ms/step - loss: 2728.6445 - val_loss: 1983.6869\n",
      "Epoch 39/5000\n",
      "66/66 [==============================] - 0s 4ms/step - loss: 2727.8040 - val_loss: 1985.9360\n",
      "Epoch 40/5000\n",
      "66/66 [==============================] - 0s 4ms/step - loss: 2729.1892 - val_loss: 1983.6573\n",
      "Epoch 41/5000\n",
      "66/66 [==============================] - 0s 4ms/step - loss: 2728.2100 - val_loss: 1981.5809\n",
      "Epoch 42/5000\n",
      "66/66 [==============================] - 0s 4ms/step - loss: 2727.3926 - val_loss: 1979.7380\n",
      "Epoch 43/5000\n",
      "66/66 [==============================] - 0s 4ms/step - loss: 2726.7510 - val_loss: 1978.1938\n",
      "Epoch 44/5000\n",
      "66/66 [==============================] - 0s 4ms/step - loss: 2726.1968 - val_loss: 1976.8047\n",
      "Epoch 45/5000\n",
      "66/66 [==============================] - 0s 5ms/step - loss: 2725.6865 - val_loss: 1975.5659\n",
      "Epoch 46/5000\n",
      "66/66 [==============================] - 0s 4ms/step - loss: 2726.9429 - val_loss: 1977.8483\n",
      "Epoch 47/5000\n",
      "66/66 [==============================] - 0s 4ms/step - loss: 2726.5637 - val_loss: 1976.4766\n",
      "Epoch 48/5000\n",
      "66/66 [==============================] - 0s 4ms/step - loss: 2725.9260 - val_loss: 1976.1873\n",
      "Epoch 49/5000\n",
      "66/66 [==============================] - 0s 4ms/step - loss: 2725.3601 - val_loss: 1974.2660\n",
      "Epoch 50/5000\n",
      "66/66 [==============================] - 0s 4ms/step - loss: 2724.9868 - val_loss: 1973.3344\n",
      "Epoch 51/5000\n",
      "66/66 [==============================] - 0s 4ms/step - loss: 2724.5396 - val_loss: 1972.4255\n",
      "Epoch 52/5000\n",
      "66/66 [==============================] - 0s 4ms/step - loss: 2724.1953 - val_loss: 1971.6289\n",
      "Epoch 53/5000\n",
      "66/66 [==============================] - 0s 4ms/step - loss: 2724.0049 - val_loss: 1970.9857\n",
      "Epoch 54/5000\n",
      "66/66 [==============================] - 0s 4ms/step - loss: 2723.6763 - val_loss: 1970.1729\n",
      "Epoch 55/5000\n",
      "66/66 [==============================] - 0s 4ms/step - loss: 2723.4683 - val_loss: 1969.9534\n",
      "Epoch 56/5000\n",
      "66/66 [==============================] - 0s 4ms/step - loss: 2724.8794 - val_loss: 1973.3186\n",
      "Epoch 57/5000\n",
      "66/66 [==============================] - 0s 4ms/step - loss: 2724.6687 - val_loss: 1972.1224\n",
      "Epoch 58/5000\n",
      "66/66 [==============================] - 0s 4ms/step - loss: 2723.9678 - val_loss: 1971.0099\n",
      "Epoch 59/5000\n",
      "66/66 [==============================] - 0s 4ms/step - loss: 2722.9185 - val_loss: 1968.5321\n",
      "Epoch 60/5000\n",
      "66/66 [==============================] - 0s 4ms/step - loss: 2720.3975 - val_loss: 1962.5172\n",
      "Epoch 61/5000\n",
      "66/66 [==============================] - 0s 4ms/step - loss: 2713.1855 - val_loss: 1961.6896\n",
      "Epoch 62/5000\n",
      "66/66 [==============================] - 0s 5ms/step - loss: 2711.0415 - val_loss: 1953.5427\n",
      "Epoch 63/5000\n",
      "66/66 [==============================] - 0s 4ms/step - loss: 2706.3301 - val_loss: 1943.8353\n",
      "Epoch 64/5000\n",
      "66/66 [==============================] - 0s 4ms/step - loss: 2698.5198 - val_loss: 1932.3120\n",
      "Epoch 65/5000\n",
      "66/66 [==============================] - 0s 4ms/step - loss: 2691.0671 - val_loss: 1920.8422\n",
      "Epoch 66/5000\n",
      "66/66 [==============================] - 0s 4ms/step - loss: 2685.2383 - val_loss: 1913.7531\n",
      "Epoch 67/5000\n",
      "66/66 [==============================] - 0s 5ms/step - loss: 2681.5957 - val_loss: 1908.1062\n",
      "Epoch 68/5000\n",
      "66/66 [==============================] - 0s 5ms/step - loss: 2678.9951 - val_loss: 1902.3468\n",
      "Epoch 69/5000\n",
      "66/66 [==============================] - 0s 5ms/step - loss: 2675.7771 - val_loss: 1898.9066\n",
      "Epoch 70/5000\n",
      "66/66 [==============================] - 0s 5ms/step - loss: 2672.9275 - val_loss: 1891.6890\n",
      "Epoch 71/5000\n",
      "66/66 [==============================] - 0s 5ms/step - loss: 2669.0227 - val_loss: 1883.8751\n",
      "Epoch 72/5000\n",
      "66/66 [==============================] - 0s 5ms/step - loss: 2666.3389 - val_loss: 1878.0259\n",
      "Epoch 73/5000\n",
      "66/66 [==============================] - 0s 5ms/step - loss: 2663.1270 - val_loss: 1871.2379\n",
      "Epoch 74/5000\n",
      "66/66 [==============================] - 0s 4ms/step - loss: 2659.8638 - val_loss: 1866.5243\n",
      "Epoch 75/5000\n",
      "66/66 [==============================] - 0s 4ms/step - loss: 2658.0178 - val_loss: 1862.7277\n",
      "Epoch 76/5000\n",
      "66/66 [==============================] - 0s 4ms/step - loss: 2654.5908 - val_loss: 1853.9806\n",
      "Epoch 77/5000\n"
     ]
    },
    {
     "name": "stdout",
     "output_type": "stream",
     "text": [
      "66/66 [==============================] - 0s 4ms/step - loss: 2651.4963 - val_loss: 1852.2766\n",
      "Epoch 78/5000\n",
      "66/66 [==============================] - 0s 4ms/step - loss: 2653.8816 - val_loss: 1850.0371\n",
      "Epoch 79/5000\n",
      "66/66 [==============================] - 0s 4ms/step - loss: 2650.9229 - val_loss: 1844.8934\n",
      "Epoch 80/5000\n",
      "66/66 [==============================] - 0s 4ms/step - loss: 2648.6692 - val_loss: 1841.0734\n",
      "Epoch 81/5000\n",
      "66/66 [==============================] - 0s 4ms/step - loss: 2646.5444 - val_loss: 1836.7616\n",
      "Epoch 82/5000\n",
      "66/66 [==============================] - 0s 4ms/step - loss: 2643.8501 - val_loss: 1833.0909\n",
      "Epoch 83/5000\n",
      "66/66 [==============================] - 0s 4ms/step - loss: 2644.1331 - val_loss: 1828.7947\n",
      "Epoch 84/5000\n",
      "66/66 [==============================] - 0s 4ms/step - loss: 2641.1045 - val_loss: 1828.2555\n",
      "Epoch 85/5000\n",
      "66/66 [==============================] - 0s 4ms/step - loss: 2643.3596 - val_loss: 1830.4525\n",
      "Epoch 86/5000\n",
      "66/66 [==============================] - 0s 4ms/step - loss: 2641.9639 - val_loss: 1826.5157\n",
      "Epoch 87/5000\n",
      "66/66 [==============================] - 0s 5ms/step - loss: 2639.8074 - val_loss: 1823.6296\n",
      "Epoch 88/5000\n",
      "66/66 [==============================] - 0s 4ms/step - loss: 2641.4165 - val_loss: 1819.1494\n",
      "Epoch 89/5000\n",
      "66/66 [==============================] - 0s 5ms/step - loss: 2637.3984 - val_loss: 1816.3003\n",
      "Epoch 90/5000\n",
      "66/66 [==============================] - 0s 5ms/step - loss: 2638.6482 - val_loss: 1814.4780\n",
      "Epoch 91/5000\n",
      "66/66 [==============================] - 1s 9ms/step - loss: 2635.8865 - val_loss: 1809.7783\n",
      "Epoch 92/5000\n",
      "66/66 [==============================] - 1s 8ms/step - loss: 2635.9116 - val_loss: 1807.5753\n",
      "Epoch 93/5000\n",
      "66/66 [==============================] - 1s 8ms/step - loss: 2634.7024 - val_loss: 1806.6976\n",
      "Epoch 94/5000\n",
      "66/66 [==============================] - 0s 7ms/step - loss: 2634.1775 - val_loss: 1804.0017\n",
      "Epoch 95/5000\n",
      "66/66 [==============================] - 0s 6ms/step - loss: 2632.8923 - val_loss: 1804.0492\n",
      "Epoch 96/5000\n",
      "66/66 [==============================] - 1s 9ms/step - loss: 2633.4475 - val_loss: 1803.3678\n",
      "Epoch 97/5000\n",
      "66/66 [==============================] - 0s 6ms/step - loss: 2632.5813 - val_loss: 1799.5717\n",
      "Epoch 98/5000\n",
      "66/66 [==============================] - 0s 7ms/step - loss: 2632.3928 - val_loss: 1797.4480\n",
      "Epoch 99/5000\n",
      "66/66 [==============================] - 0s 5ms/step - loss: 2632.0264 - val_loss: 1795.2534\n",
      "Epoch 100/5000\n",
      "66/66 [==============================] - 0s 5ms/step - loss: 2631.7043 - val_loss: 1795.6379\n",
      "Epoch 101/5000\n",
      "66/66 [==============================] - 0s 4ms/step - loss: 2630.9150 - val_loss: 1795.6487\n",
      "Epoch 102/5000\n",
      "66/66 [==============================] - 0s 4ms/step - loss: 2632.8906 - val_loss: 1793.7892\n",
      "Epoch 103/5000\n",
      "66/66 [==============================] - 0s 4ms/step - loss: 2629.1938 - val_loss: 1794.0280\n",
      "Epoch 104/5000\n",
      "66/66 [==============================] - 0s 4ms/step - loss: 2630.5737 - val_loss: 1790.5417\n",
      "Epoch 105/5000\n",
      "66/66 [==============================] - 0s 4ms/step - loss: 2632.4602 - val_loss: 1789.6515\n",
      "Epoch 106/5000\n",
      "66/66 [==============================] - 0s 4ms/step - loss: 2631.4062 - val_loss: 1788.7677\n",
      "Epoch 107/5000\n",
      "66/66 [==============================] - 0s 4ms/step - loss: 2628.4861 - val_loss: 1788.1205\n",
      "Epoch 108/5000\n",
      "66/66 [==============================] - 0s 4ms/step - loss: 2629.5161 - val_loss: 1787.1359\n",
      "Epoch 109/5000\n",
      "66/66 [==============================] - 0s 5ms/step - loss: 2634.5923 - val_loss: 1816.2012\n",
      "Epoch 110/5000\n",
      "66/66 [==============================] - 0s 4ms/step - loss: 2630.6716 - val_loss: 1807.2181\n",
      "Epoch 111/5000\n",
      "66/66 [==============================] - 0s 4ms/step - loss: 2635.4094 - val_loss: 1812.1587\n",
      "Epoch 112/5000\n",
      "66/66 [==============================] - 0s 4ms/step - loss: 2637.0261 - val_loss: 1804.6449\n",
      "Epoch 113/5000\n",
      "66/66 [==============================] - 0s 4ms/step - loss: 2634.3120 - val_loss: 1800.0594\n"
     ]
    }
   ],
   "source": [
    "# Test single model\n",
    "autoencoder = FunctionalLSTMAutoEncoder(TIME_STEPS, num_features, 24, BATCH_SIZE) #, timesteps) #nnm.AnomalyDetector(data.shape[1])\n",
    "\n",
    "autoencoder.compile(optimizer=tf.keras.optimizers.SGD(learning_rate=1e-3),\n",
    "                    loss='mean_squared_error')\n",
    "                    #metrics=[tf.keras.metrics.Precision(name='precision'),\n",
    "                    #                tf.keras.metrics.Recall(name='recall'),\n",
    "                    #                tf.keras.metrics.AUC(name='auc'),\n",
    "                    #                tf.keras.metrics.AUC(name='prc', curve='PR')])\n",
    "\n",
    "history = autoencoder.fit(train_data, train_data,\n",
    "          epochs=5000, callbacks = [early_stopping],\n",
    "          validation_split=0.1, batch_size=BATCH_SIZE)\n",
    "          #validation_data=(val_data, val_data))"
   ]
  },
  {
   "cell_type": "code",
   "execution_count": 244,
   "id": "82fff4a1",
   "metadata": {},
   "outputs": [
    {
     "name": "stdout",
     "output_type": "stream",
     "text": [
      "Model: \"functional_lstm_auto_encoder_5\"\n",
      "_________________________________________________________________\n",
      " Layer (type)                Output Shape              Param #   \n",
      "=================================================================\n",
      " lstm_10 (LSTM)              multiple                  4704      \n",
      "                                                                 \n",
      " repeat_vector_16 (RepeatVec  multiple                 0         \n",
      " tor)                                                            \n",
      "                                                                 \n",
      " lstm_11 (LSTM)              multiple                  4704      \n",
      "                                                                 \n",
      " time_distributed_13 (TimeDi  multiple                 600       \n",
      " stributed)                                                      \n",
      "                                                                 \n",
      "=================================================================\n",
      "Total params: 10,008\n",
      "Trainable params: 10,008\n",
      "Non-trainable params: 0\n",
      "_________________________________________________________________\n",
      "None\n"
     ]
    }
   ],
   "source": [
    "print(autoencoder.summary())"
   ]
  },
  {
   "cell_type": "code",
   "execution_count": 245,
   "id": "ae07ee62",
   "metadata": {
    "scrolled": false
   },
   "outputs": [
    {
     "data": {
      "image/png": "[encoded data removed]",
      "text/plain": [
       "<IPython.core.display.Image object>"
      ]
     },
     "execution_count": 245,
     "metadata": {},
     "output_type": "execute_result"
    }
   ],
   "source": [
    "dot_img_file = '/Users/kirsh012/Downloads/model_5.png'\n",
    "tf.keras.utils.plot_model(autoencoder.build_graph(), to_file=dot_img_file, show_shapes=True)"
   ]
  },
  {
   "cell_type": "code",
   "execution_count": 246,
   "id": "4a9bee31",
   "metadata": {},
   "outputs": [
    {
     "data": {
      "text/plain": [
       "<AxesSubplot:title={'center':'LSTM Autoencoder'}, xlabel='Epochs', ylabel='Loss'>"
      ]
     },
     "execution_count": 246,
     "metadata": {},
     "output_type": "execute_result"
    },
    {
     "data": {
      "image/png": "[encoded data removed]",
      "text/plain": [
       "<Figure size 800x600 with 1 Axes>"
      ]
     },
     "metadata": {},
     "output_type": "display_data"
    }
   ],
   "source": [
    "# Plot Train and Val loss\n",
    "viz.plot_loss(history.history['loss'], history.history['val_loss'], title = 'LSTM Autoencoder')"
   ]
  },
  {
   "cell_type": "code",
   "execution_count": 218,
   "id": "c9d99b2a",
   "metadata": {},
   "outputs": [
    {
     "name": "stdout",
     "output_type": "stream",
     "text": [
      "0.5\n",
      "1.5\n",
      "0.0\n"
     ]
    }
   ],
   "source": [
    "A = np.array([[1,2], [1,2], [1,2]])\n",
    "B = np.array([[1,1], [0,0], [1,2]])\n",
    "for row in range(A.shape[0]):\n",
    "    print(mean_absolute_error(A[row,:], B[row,:]))"
   ]
  },
  {
   "cell_type": "code",
   "execution_count": 247,
   "id": "510246a2",
   "metadata": {},
   "outputs": [
    {
     "name": "stdout",
     "output_type": "stream",
     "text": [
      "74/74 [==============================] - 1s 2ms/step\n",
      "56/56 [==============================] - 0s 2ms/step\n",
      "183/183 [==============================] - 0s 2ms/step\n"
     ]
    }
   ],
   "source": [
    "### Test the MAE and R^2 of the train, val and test datasets for the autoencoder\n",
    "train_reconstructions = autoencoder.predict(train_data, BATCH_SIZE)\n",
    "val_reconstructions   = autoencoder.predict(val_data, BATCH_SIZE)\n",
    "test_reconstructions  = autoencoder.predict(test_data, BATCH_SIZE)"
   ]
  },
  {
   "cell_type": "code",
   "execution_count": 248,
   "id": "09251e33",
   "metadata": {},
   "outputs": [],
   "source": [
    "# Calculate the mean MAE and R^2 for each dataset\n",
    "train_mae_list = []\n",
    "train_r2_list  = []\n",
    "for tri in range(train_data.shape[0]):\n",
    "    train_mae = mean_absolute_error(train_data[tri], train_reconstructions[tri,:,:])\n",
    "    train_r2  = r2_score(train_data[tri], train_reconstructions[tri,:,:])\n",
    "    \n",
    "    train_mae_list.append(train_mae)\n",
    "    train_r2_list.append(train_r2)\n",
    "    \n",
    "test_mae_list  = []\n",
    "test_r2_list   = []\n",
    "for tei in range(test_data.shape[0]):\n",
    "    test_mae = mean_absolute_error(test_data[tei], test_reconstructions[tei,:,:])\n",
    "    test_r2  = r2_score(test_data[tei], test_reconstructions[tei,:,:])\n",
    "    \n",
    "    test_mae_list.append(test_mae)\n",
    "    test_r2_list.append(test_r2)\n",
    "\n",
    "val_mae_list   = []\n",
    "val_r2_list    = []\n",
    "for vi in range(val_data.shape[0]):\n",
    "    val_mae = mean_absolute_error(val_data[vi], val_reconstructions[vi,:,:])\n",
    "    val_r2  = r2_score(val_data[vi], val_reconstructions[vi,:,:])\n",
    "    \n",
    "    val_mae_list.append(val_mae)\n",
    "    val_r2_list.append(val_r2)"
   ]
  },
  {
   "cell_type": "code",
   "execution_count": 249,
   "id": "def3f504",
   "metadata": {},
   "outputs": [
    {
     "name": "stdout",
     "output_type": "stream",
     "text": [
      "Train MAE:  40.25858810736594\n",
      "Test MAE:  56.874437110074076\n",
      "Val MAE:  46.69930533456472\n",
      "Train R-squared:  -2.7345502343066877e+25\n",
      "Test R-squared:  -6.299362037906603e+23\n",
      "Val R-squared:  -2.0783973827745773e+24\n"
     ]
    }
   ],
   "source": [
    "# Print the Mean MAE and R^2\n",
    "print(\"Train MAE: \", np.mean(train_mae_list))\n",
    "print(\"Test MAE: \", np.mean(test_mae_list))\n",
    "print(\"Val MAE: \", np.mean(val_mae_list))\n",
    "\n",
    "print(\"Train R-squared: \", np.mean(train_r2_list))\n",
    "print(\"Test R-squared: \", np.mean(test_r2_list))\n",
    "print(\"Val R-squared: \", np.mean(val_r2_list))"
   ]
  },
  {
   "cell_type": "code",
   "execution_count": 230,
   "id": "fec39e38",
   "metadata": {},
   "outputs": [],
   "source": [
    "def create_dataset(dataset, look_back=1):\n",
    "    dataX, dataY = [], []\n",
    "    for i in range(len(dataset)-look_back-1):\n",
    "        a = dataset[i:(i+look_back), 0]\n",
    "        dataX.append(a)\n",
    "        dataY.append(dataset[i + look_back, 0])\n",
    "    return np.array(dataX), np.array(dataY)"
   ]
  },
  {
   "cell_type": "code",
   "execution_count": 231,
   "id": "f02f05e5",
   "metadata": {},
   "outputs": [],
   "source": [
    "# reshape into X=t and Y=t+1\n",
    "train = np.random.randn(100, 1)\n",
    "look_back = 24\n",
    "trainX, trainY = create_dataset(train, look_back)"
   ]
  },
  {
   "cell_type": "code",
   "execution_count": 238,
   "id": "27436b75",
   "metadata": {},
   "outputs": [
    {
     "name": "stdout",
     "output_type": "stream",
     "text": [
      "(75, 1, 24)\n"
     ]
    }
   ],
   "source": [
    "# reshape input to be [samples, time steps, features]\n",
    "trainX = np.reshape(trainX, (trainX.shape[0], 1, trainX.shape[1]))\n",
    "print(trainX.shape)"
   ]
  },
  {
   "cell_type": "code",
   "execution_count": 240,
   "id": "a28748ac",
   "metadata": {},
   "outputs": [
    {
     "data": {
      "text/plain": [
       "(75,)"
      ]
     },
     "execution_count": 240,
     "metadata": {},
     "output_type": "execute_result"
    }
   ],
   "source": [
    "trainY.shape"
   ]
  },
  {
   "cell_type": "code",
   "execution_count": 239,
   "id": "d401319b",
   "metadata": {},
   "outputs": [
    {
     "data": {
      "text/plain": [
       "(2345, 2, 24)"
      ]
     },
     "execution_count": 239,
     "metadata": {},
     "output_type": "execute_result"
    }
   ],
   "source": [
    "new_train = np.reshape(train_data, (train_data.shape[0], train_data.shape[2], train_data.shape[1]))\n",
    "new_train.shape"
   ]
  },
  {
   "cell_type": "code",
   "execution_count": 250,
   "id": "e0cd20fe",
   "metadata": {},
   "outputs": [
    {
     "data": {
      "text/plain": [
       "-239.3709311085329"
      ]
     },
     "execution_count": 250,
     "metadata": {},
     "output_type": "execute_result"
    }
   ],
   "source": [
    "r2_score(train_data[100], train_reconstructions[100,:,:])"
   ]
  },
  {
   "cell_type": "code",
   "execution_count": 251,
   "id": "20a670ba",
   "metadata": {},
   "outputs": [],
   "source": [
    "class ThresholdEstimator:\n",
    "\n",
    "    def __init__(self) -> None:\n",
    "        self.mu        = 0\n",
    "        self.sigma     = 1\n",
    "        self.threshold = None\n",
    "\n",
    "    def _get_likelihoods(self, errors):\n",
    "        print(errors.shape)\n",
    "        \n",
    "        n = errors.shape[0]\n",
    "        l = -n/2*np.log(2*np.pi) - (n/2)*np.log(self.sigma**2) - (1/(2*self.sigma**2))*(errors - self.mu)**2\n",
    "        return l\n",
    "    \n",
    "    def fit(self, model, data, target, batch_size):\n",
    "\n",
    "        # Reconstruct the data\n",
    "        reconstructions = model.predict(data, batch_size)\n",
    "        print(\"Reconstructions:\")\n",
    "        print(reconstructions.shape)\n",
    "        print(reconstructions[:5].shape)\n",
    "        print(reconstructions[:5, :5].shape)\n",
    "        print(reconstructions[:5, :, :])\n",
    "        \n",
    "        print(\"Data:\")\n",
    "        print(data.shape)\n",
    "        print(data[:5].shape)\n",
    "        print(data[:5, :5].shape)\n",
    "        print(data[:5, :, :])\n",
    "        errors = tf.keras.losses.mse(self._compress_array(reconstructions), self._compress_array(data))\n",
    "        \n",
    "        # Estimate the normal distribution of the errors\n",
    "        self.mu    = np.mean(errors, axis = 0)\n",
    "        self.sigma = np.cov(errors)\n",
    "\n",
    "        #likelihoods = multivariate_normal.pdf(errors, mean=self.mu, cov=self.sigma)\n",
    "        #likelihoods  = norm.pdf(errors, loc=self.mu, scale=self.sigma)\n",
    "        #likelihoods = self._get_likelihoods(errors)\n",
    "        likelihoods = norm.logpdf(errors, loc=self.mu, scale=self.sigma)\n",
    "        print(\"Likelihoods:\")\n",
    "        print(likelihoods)\n",
    "\n",
    "        f_list = []\n",
    "        \n",
    "        thresholds = np.linspace(min(likelihoods), max(likelihoods), 100)\n",
    "        \n",
    "        for t in thresholds:\n",
    "\n",
    "            preds = (likelihoods<t).astype(int)\n",
    "            f = fbeta_score(target, preds, beta=0.1, zero_division=0)\n",
    "            f_list.append(f)\n",
    "\n",
    "        bidx = np.argmax(f_list)\n",
    "        \n",
    "        self.best_threshold = np.max(errors)\n",
    "        #self.best_threshold = np.quantile(errors, 0.95) #thresholds[bidx]\n",
    "\n",
    "        return self\n",
    "    \n",
    "    def _compress_array(self, array):\n",
    "        compressed_array = [array[sample, array.shape[1]-1, :] for sample in range(array.shape[0])]\n",
    "    \n",
    "        return compressed_array\n",
    "    \n",
    "    def predict(self, model, data, target, batch_size):\n",
    "        \n",
    "        reconstructions = model.predict(data, batch_size)\n",
    "        errors = np.array(tf.keras.losses.mse(self._compress_array(reconstructions), self._compress_array(data)))\n",
    "        print(errors[:5])\n",
    "#         #likelihoods = multivariate_normal.pdf(errors, mean=self.mu, cov=self.sigma)\n",
    "#         #likelihoods = norm.pdf(errors, loc=self.mu, scale=self.sigma)\n",
    "#         likelihoods = np.array(errors)\n",
    "#         print(likelihoods[:5])\n",
    "#        pred_labels = (likelihoods < self.best_threshold).astype(int)\n",
    "        likelihoods = errors\n",
    "        pred_labels = (errors > self.best_threshold).astype(int)\n",
    "        return likelihoods, pred_labels"
   ]
  },
  {
   "cell_type": "code",
   "execution_count": 252,
   "id": "f53ce714",
   "metadata": {},
   "outputs": [
    {
     "name": "stdout",
     "output_type": "stream",
     "text": [
      "74/74 [==============================] - 0s 2ms/step\n"
     ]
    }
   ],
   "source": [
    "# Get the reconstructions and the error\n",
    "train_reconstructions = autoencoder.predict(train_data, BATCH_SIZE)"
   ]
  },
  {
   "cell_type": "code",
   "execution_count": 253,
   "id": "25e1d026",
   "metadata": {},
   "outputs": [
    {
     "data": {
      "text/plain": [
       "array([[[ 99.01585 , 106.6728  ,  99.27241 , ..., 110.48065 ,\n",
       "         102.6205  , 110.68894 ],\n",
       "        [107.433014, 115.48764 , 107.87345 , ..., 119.40853 ,\n",
       "         111.582825, 119.83797 ]],\n",
       "\n",
       "       [[ 98.50775 , 106.12483 ,  98.763176, ..., 109.9116  ,\n",
       "         102.09573 , 110.120995],\n",
       "        [106.854935, 114.8509  , 107.30388 , ..., 118.75242 ,\n",
       "         110.99215 , 119.18501 ]],\n",
       "\n",
       "       [[ 98.50775 , 106.12483 ,  98.763176, ..., 109.9116  ,\n",
       "         102.09573 , 110.120995],\n",
       "        [106.854935, 114.8509  , 107.30388 , ..., 118.75242 ,\n",
       "         110.99215 , 119.18501 ]],\n",
       "\n",
       "       ...,\n",
       "\n",
       "       [[ 98.5078  , 106.1249  ,  98.76323 , ..., 109.91168 ,\n",
       "         102.0958  , 110.12106 ],\n",
       "        [106.854996, 114.85098 , 107.30393 , ..., 118.7525  ,\n",
       "         110.9922  , 119.185074]],\n",
       "\n",
       "       [[ 98.50775 , 106.12483 ,  98.763176, ..., 109.9116  ,\n",
       "         102.09573 , 110.120995],\n",
       "        [106.854935, 114.8509  , 107.30388 , ..., 118.75242 ,\n",
       "         110.99215 , 119.18501 ]],\n",
       "\n",
       "       [[ 98.50775 , 106.12483 ,  98.763176, ..., 109.9116  ,\n",
       "         102.09573 , 110.120995],\n",
       "        [106.854935, 114.8509  , 107.30388 , ..., 118.75242 ,\n",
       "         110.99215 , 119.18501 ]]], dtype=float32)"
      ]
     },
     "execution_count": 253,
     "metadata": {},
     "output_type": "execute_result"
    }
   ],
   "source": [
    "train_reconstructions"
   ]
  },
  {
   "cell_type": "code",
   "execution_count": 254,
   "id": "7c551a52",
   "metadata": {},
   "outputs": [
    {
     "name": "stdout",
     "output_type": "stream",
     "text": [
      "56/56 [==============================] - 0s 2ms/step\n",
      "Reconstructions:\n",
      "(1783, 2, 24)\n",
      "(5, 2, 24)\n",
      "(5, 2, 24)\n",
      "[[[ 98.50775  106.12483   98.763176 106.38549   99.22171  106.65162\n",
      "    99.606544 107.19965  100.02988  107.514366 100.167786 107.91793\n",
      "   100.64234  108.136    101.12937  108.6566   101.293686 108.97436\n",
      "   101.60615  109.52081  101.9405   109.9116   102.09573  110.120995]\n",
      "  [106.854935 114.85091  107.30388  115.25397  107.560646 115.74623\n",
      "   107.889755 115.97508  108.22664  116.47119  108.832344 116.87114\n",
      "   109.10416  117.504295 109.38581  117.78952  109.91957  118.263374\n",
      "   110.290016 118.484665 110.58353  118.75242  110.99215  119.18501 ]]\n",
      "\n",
      " [[ 98.50775  106.12483   98.763176 106.38549   99.22171  106.65162\n",
      "    99.606544 107.19965  100.02988  107.514366 100.167786 107.91793\n",
      "   100.64234  108.136    101.12937  108.6566   101.293686 108.97436\n",
      "   101.60615  109.52081  101.9405   109.9116   102.09573  110.120995]\n",
      "  [106.854935 114.8509   107.30388  115.25397  107.56064  115.74623\n",
      "   107.889755 115.97508  108.22664  116.47119  108.83234  116.87114\n",
      "   109.10416  117.504295 109.38581  117.78952  109.91957  118.263374\n",
      "   110.290016 118.48466  110.58353  118.75242  110.99215  119.18501 ]]\n",
      "\n",
      " [[ 98.50775  106.12483   98.763176 106.38549   99.22171  106.65162\n",
      "    99.606544 107.19965  100.02988  107.514366 100.167786 107.91793\n",
      "   100.64234  108.136    101.12937  108.6566   101.293686 108.97436\n",
      "   101.60615  109.52081  101.9405   109.9116   102.09573  110.120995]\n",
      "  [106.854935 114.8509   107.30388  115.25397  107.56064  115.74623\n",
      "   107.889755 115.97508  108.22664  116.47119  108.83234  116.87114\n",
      "   109.10416  117.504295 109.38581  117.78952  109.91957  118.263374\n",
      "   110.290016 118.48466  110.58353  118.75242  110.99215  119.18501 ]]\n",
      "\n",
      " [[ 98.50775  106.12483   98.763176 106.38549   99.22171  106.65162\n",
      "    99.606544 107.19965  100.02988  107.514366 100.167786 107.91793\n",
      "   100.64234  108.136    101.12937  108.6566   101.293686 108.97436\n",
      "   101.60615  109.52081  101.9405   109.9116   102.09573  110.120995]\n",
      "  [106.854935 114.8509   107.30388  115.25397  107.56064  115.74623\n",
      "   107.889755 115.97508  108.22664  116.47119  108.83234  116.87114\n",
      "   109.10416  117.504295 109.38581  117.78952  109.91957  118.263374\n",
      "   110.290016 118.48466  110.58353  118.75242  110.99215  119.18501 ]]\n",
      "\n",
      " [[ 98.50775  106.12483   98.763176 106.38549   99.22171  106.65162\n",
      "    99.606544 107.19965  100.02988  107.514366 100.167786 107.91793\n",
      "   100.64234  108.136    101.12937  108.6566   101.293686 108.97436\n",
      "   101.60615  109.52081  101.9405   109.9116   102.09573  110.120995]\n",
      "  [106.854935 114.8509   107.30388  115.25397  107.56064  115.74623\n",
      "   107.889755 115.97508  108.22664  116.47119  108.832344 116.87114\n",
      "   109.10416  117.504295 109.38581  117.78952  109.91957  118.263374\n",
      "   110.290016 118.484665 110.58353  118.75242  110.99215  119.18501 ]]]\n",
      "Data:\n",
      "(1783, 2, 24)\n",
      "(5, 2, 24)\n",
      "(5, 2, 24)\n",
      "[[[105.2 134.   97.8 112.   83.2  88.   76.   74.   74.2  68.   68.4\n",
      "    73.   62.2  83.   58.6  78.   58.   75.   56.4  73.   49.6  63.\n",
      "    41.6  57. ]\n",
      "  [ 40.   53.   40.   51.   40.   50.   40.   47.   40.   43.   40.\n",
      "    41.   40.   40.   40.   40.   40.   41.   40.   43.   40.   47.\n",
      "    40.   51. ]]\n",
      "\n",
      " [[ 97.8 112.   83.2  88.   76.   74.   74.2  68.   68.4  73.   62.2\n",
      "    83.   58.6  78.   58.   75.   56.4  73.   49.6  63.   41.6  57.\n",
      "    40.   53. ]\n",
      "  [ 40.   51.   40.   50.   40.   47.   40.   43.   40.   41.   40.\n",
      "    40.   40.   40.   40.   41.   40.   43.   40.   47.   40.   51.\n",
      "    42.4  54. ]]\n",
      "\n",
      " [[ 83.2  88.   76.   74.   74.2  68.   68.4  73.   62.2  83.   58.6\n",
      "    78.   58.   75.   56.4  73.   49.6  63.   41.6  57.   40.   53.\n",
      "    40.   51. ]\n",
      "  [ 40.   50.   40.   47.   40.   43.   40.   41.   40.   40.   40.\n",
      "    40.   40.   41.   40.   43.   40.   47.   40.   51.   42.4  54.\n",
      "    46.2  57. ]]\n",
      "\n",
      " [[ 76.   74.   74.2  68.   68.4  73.   62.2  83.   58.6  78.   58.\n",
      "    75.   56.4  73.   49.6  63.   41.6  57.   40.   53.   40.   51.\n",
      "    40.   50. ]\n",
      "  [ 40.   47.   40.   43.   40.   41.   40.   40.   40.   40.   40.\n",
      "    41.   40.   43.   40.   47.   40.   51.   42.4  54.   46.2  57.\n",
      "    48.6  58. ]]\n",
      "\n",
      " [[ 74.2  68.   68.4  73.   62.2  83.   58.6  78.   58.   75.   56.4\n",
      "    73.   49.6  63.   41.6  57.   40.   53.   40.   51.   40.   50.\n",
      "    40.   47. ]\n",
      "  [ 40.   43.   40.   41.   40.   40.   40.   40.   40.   41.   40.\n",
      "    43.   40.   47.   40.   51.   42.4  54.   46.2  57.   48.6  58.\n",
      "    50.6  56. ]]]\n",
      "Likelihoods:\n",
      "[-18.57287833 -18.57287833 -18.57287833 ... -18.57287833 -18.57287833\n",
      " -18.57287833]\n"
     ]
    },
    {
     "data": {
      "text/plain": [
       "<__main__.ThresholdEstimator at 0x7fd9b4ae10c0>"
      ]
     },
     "execution_count": 254,
     "metadata": {},
     "output_type": "execute_result"
    }
   ],
   "source": [
    "# Fit the threshold using the validation dataset.\n",
    "ter = ThresholdEstimator()\n",
    "\n",
    "ter.fit(autoencoder, val_data, y_val, BATCH_SIZE)"
   ]
  },
  {
   "cell_type": "code",
   "execution_count": 255,
   "id": "37ab2162",
   "metadata": {},
   "outputs": [
    {
     "ename": "InvalidArgumentError",
     "evalue": "Graph execution error:\n\nDetected at node 'while/MatMul' defined at (most recent call last):\n    File \"/Users/kirsh012/opt/anaconda3/envs/tf/lib/python3.10/runpy.py\", line 196, in _run_module_as_main\n      return _run_code(code, main_globals, None,\n    File \"/Users/kirsh012/opt/anaconda3/envs/tf/lib/python3.10/runpy.py\", line 86, in _run_code\n      exec(code, run_globals)\n    File \"/Users/kirsh012/opt/anaconda3/envs/tf/lib/python3.10/site-packages/ipykernel_launcher.py\", line 17, in <module>\n      app.launch_new_instance()\n    File \"/Users/kirsh012/opt/anaconda3/envs/tf/lib/python3.10/site-packages/traitlets/config/application.py\", line 846, in launch_instance\n      app.start()\n    File \"/Users/kirsh012/opt/anaconda3/envs/tf/lib/python3.10/site-packages/ipykernel/kernelapp.py\", line 712, in start\n      self.io_loop.start()\n    File \"/Users/kirsh012/opt/anaconda3/envs/tf/lib/python3.10/site-packages/tornado/platform/asyncio.py\", line 215, in start\n      self.asyncio_loop.run_forever()\n    File \"/Users/kirsh012/opt/anaconda3/envs/tf/lib/python3.10/asyncio/base_events.py\", line 600, in run_forever\n      self._run_once()\n    File \"/Users/kirsh012/opt/anaconda3/envs/tf/lib/python3.10/asyncio/base_events.py\", line 1896, in _run_once\n      handle._run()\n    File \"/Users/kirsh012/opt/anaconda3/envs/tf/lib/python3.10/asyncio/events.py\", line 80, in _run\n      self._context.run(self._callback, *self._args)\n    File \"/Users/kirsh012/opt/anaconda3/envs/tf/lib/python3.10/site-packages/ipykernel/kernelbase.py\", line 510, in dispatch_queue\n      await self.process_one()\n    File \"/Users/kirsh012/opt/anaconda3/envs/tf/lib/python3.10/site-packages/ipykernel/kernelbase.py\", line 499, in process_one\n      await dispatch(*args)\n    File \"/Users/kirsh012/opt/anaconda3/envs/tf/lib/python3.10/site-packages/ipykernel/kernelbase.py\", line 406, in dispatch_shell\n      await result\n    File \"/Users/kirsh012/opt/anaconda3/envs/tf/lib/python3.10/site-packages/ipykernel/kernelbase.py\", line 730, in execute_request\n      reply_content = await reply_content\n    File \"/Users/kirsh012/opt/anaconda3/envs/tf/lib/python3.10/site-packages/ipykernel/ipkernel.py\", line 383, in do_execute\n      res = shell.run_cell(\n    File \"/Users/kirsh012/opt/anaconda3/envs/tf/lib/python3.10/site-packages/ipykernel/zmqshell.py\", line 528, in run_cell\n      return super().run_cell(*args, **kwargs)\n    File \"/Users/kirsh012/opt/anaconda3/envs/tf/lib/python3.10/site-packages/IPython/core/interactiveshell.py\", line 2881, in run_cell\n      result = self._run_cell(\n    File \"/Users/kirsh012/opt/anaconda3/envs/tf/lib/python3.10/site-packages/IPython/core/interactiveshell.py\", line 2936, in _run_cell\n      return runner(coro)\n    File \"/Users/kirsh012/opt/anaconda3/envs/tf/lib/python3.10/site-packages/IPython/core/async_helpers.py\", line 129, in _pseudo_sync_runner\n      coro.send(None)\n    File \"/Users/kirsh012/opt/anaconda3/envs/tf/lib/python3.10/site-packages/IPython/core/interactiveshell.py\", line 3135, in run_cell_async\n      has_raised = await self.run_ast_nodes(code_ast.body, cell_name,\n    File \"/Users/kirsh012/opt/anaconda3/envs/tf/lib/python3.10/site-packages/IPython/core/interactiveshell.py\", line 3338, in run_ast_nodes\n      if await self.run_code(code, result, async_=asy):\n    File \"/Users/kirsh012/opt/anaconda3/envs/tf/lib/python3.10/site-packages/IPython/core/interactiveshell.py\", line 3398, in run_code\n      exec(code_obj, self.user_global_ns, self.user_ns)\n    File \"/var/folders/vf/3xw3wws956q2sqm5zx7w2n800000gp/T/ipykernel_5238/3729895500.py\", line 1, in <cell line: 1>\n      test_preds, test_labels = ter.predict(autoencoder, data[val_idx], target[val_idx], BATCH_SIZE)\n    File \"/var/folders/vf/3xw3wws956q2sqm5zx7w2n800000gp/T/ipykernel_5238/289516813.py\", line 67, in predict\n      reconstructions = model.predict(data, batch_size)\n    File \"/Users/kirsh012/opt/anaconda3/envs/tf/lib/python3.10/site-packages/keras/utils/traceback_utils.py\", line 64, in error_handler\n      return fn(*args, **kwargs)\n    File \"/Users/kirsh012/opt/anaconda3/envs/tf/lib/python3.10/site-packages/keras/engine/training.py\", line 2033, in predict\n      tmp_batch_outputs = self.predict_function(iterator)\n    File \"/Users/kirsh012/opt/anaconda3/envs/tf/lib/python3.10/site-packages/keras/engine/training.py\", line 1845, in predict_function\n      return step_function(self, iterator)\n    File \"/Users/kirsh012/opt/anaconda3/envs/tf/lib/python3.10/site-packages/keras/engine/training.py\", line 1834, in step_function\n      outputs = model.distribute_strategy.run(run_step, args=(data,))\n    File \"/Users/kirsh012/opt/anaconda3/envs/tf/lib/python3.10/site-packages/keras/engine/training.py\", line 1823, in run_step\n      outputs = model.predict_step(data)\n    File \"/Users/kirsh012/opt/anaconda3/envs/tf/lib/python3.10/site-packages/keras/engine/training.py\", line 1791, in predict_step\n      return self(x, training=False)\n    File \"/Users/kirsh012/opt/anaconda3/envs/tf/lib/python3.10/site-packages/keras/utils/traceback_utils.py\", line 64, in error_handler\n      return fn(*args, **kwargs)\n    File \"/Users/kirsh012/opt/anaconda3/envs/tf/lib/python3.10/site-packages/keras/engine/training.py\", line 490, in __call__\n      return super().__call__(*args, **kwargs)\n    File \"/Users/kirsh012/opt/anaconda3/envs/tf/lib/python3.10/site-packages/keras/utils/traceback_utils.py\", line 64, in error_handler\n      return fn(*args, **kwargs)\n    File \"/Users/kirsh012/opt/anaconda3/envs/tf/lib/python3.10/site-packages/keras/engine/base_layer.py\", line 1014, in __call__\n      outputs = call_fn(inputs, *args, **kwargs)\n    File \"/Users/kirsh012/opt/anaconda3/envs/tf/lib/python3.10/site-packages/keras/utils/traceback_utils.py\", line 92, in error_handler\n      return fn(*args, **kwargs)\n    File \"/var/folders/vf/3xw3wws956q2sqm5zx7w2n800000gp/T/ipykernel_5238/3199113141.py\", line 18, in call\n      x = self.lstm1(x)\n    File \"/Users/kirsh012/opt/anaconda3/envs/tf/lib/python3.10/site-packages/keras/layers/rnn/base_rnn.py\", line 515, in __call__\n      return super(RNN, self).__call__(inputs, **kwargs)\n    File \"/Users/kirsh012/opt/anaconda3/envs/tf/lib/python3.10/site-packages/keras/utils/traceback_utils.py\", line 64, in error_handler\n      return fn(*args, **kwargs)\n    File \"/Users/kirsh012/opt/anaconda3/envs/tf/lib/python3.10/site-packages/keras/engine/base_layer.py\", line 1014, in __call__\n      outputs = call_fn(inputs, *args, **kwargs)\n    File \"/Users/kirsh012/opt/anaconda3/envs/tf/lib/python3.10/site-packages/keras/utils/traceback_utils.py\", line 92, in error_handler\n      return fn(*args, **kwargs)\n    File \"/Users/kirsh012/opt/anaconda3/envs/tf/lib/python3.10/site-packages/keras/layers/rnn/lstm.py\", line 673, in call\n      runtime) = lstm_with_backend_selection(**normal_lstm_kwargs)\n    File \"/Users/kirsh012/opt/anaconda3/envs/tf/lib/python3.10/site-packages/keras/layers/rnn/lstm.py\", line 1183, in lstm_with_backend_selection\n      last_output, outputs, new_h, new_c, runtime = defun_standard_lstm(**params)\n    File \"/Users/kirsh012/opt/anaconda3/envs/tf/lib/python3.10/site-packages/keras/layers/rnn/lstm.py\", line 891, in standard_lstm\n      last_output, outputs, new_states = backend.rnn(\n    File \"/Users/kirsh012/opt/anaconda3/envs/tf/lib/python3.10/site-packages/keras/backend.py\", line 4776, in rnn\n      final_outputs = tf.compat.v1.while_loop(\n    File \"/Users/kirsh012/opt/anaconda3/envs/tf/lib/python3.10/site-packages/keras/backend.py\", line 4759, in _step\n      output, new_states = step_function(current_input,\n    File \"/Users/kirsh012/opt/anaconda3/envs/tf/lib/python3.10/site-packages/keras/layers/rnn/lstm.py\", line 877, in step\n      z = backend.dot(cell_inputs, kernel)\n    File \"/Users/kirsh012/opt/anaconda3/envs/tf/lib/python3.10/site-packages/keras/backend.py\", line 2223, in dot\n      out = tf.matmul(x, y)\nNode: 'while/MatMul'\nMatrix size-incompatible: In[0]: [32,2], In[1]: [24,96]\n\t [[{{node while/MatMul}}]]\n\t [[functional_lstm_auto_encoder_5/lstm_10/PartitionedCall]] [Op:__inference_predict_function_348463]",
     "output_type": "error",
     "traceback": [
      "\u001b[0;31m---------------------------------------------------------------------------\u001b[0m",
      "\u001b[0;31mInvalidArgumentError\u001b[0m                      Traceback (most recent call last)",
      "Input \u001b[0;32mIn [255]\u001b[0m, in \u001b[0;36m<cell line: 1>\u001b[0;34m()\u001b[0m\n\u001b[0;32m----> 1\u001b[0m test_preds, test_labels \u001b[38;5;241m=\u001b[39m \u001b[43mter\u001b[49m\u001b[38;5;241;43m.\u001b[39;49m\u001b[43mpredict\u001b[49m\u001b[43m(\u001b[49m\u001b[43mautoencoder\u001b[49m\u001b[43m,\u001b[49m\u001b[43m \u001b[49m\u001b[43mdata\u001b[49m\u001b[43m[\u001b[49m\u001b[43mval_idx\u001b[49m\u001b[43m]\u001b[49m\u001b[43m,\u001b[49m\u001b[43m \u001b[49m\u001b[43mtarget\u001b[49m\u001b[43m[\u001b[49m\u001b[43mval_idx\u001b[49m\u001b[43m]\u001b[49m\u001b[43m,\u001b[49m\u001b[43m \u001b[49m\u001b[43mBATCH_SIZE\u001b[49m\u001b[43m)\u001b[49m\n\u001b[1;32m      3\u001b[0m fpr_test, tpr_test, thresh_test  \u001b[38;5;241m=\u001b[39m roc_curve(target[val_idx], test_preds)\n\u001b[1;32m      4\u001b[0m ppr_test, rec_test, pthresh_test \u001b[38;5;241m=\u001b[39m precision_recall_curve(target[val_idx], test_preds)\n",
      "Input \u001b[0;32mIn [251]\u001b[0m, in \u001b[0;36mThresholdEstimator.predict\u001b[0;34m(self, model, data, target, batch_size)\u001b[0m\n\u001b[1;32m     65\u001b[0m \u001b[38;5;28;01mdef\u001b[39;00m \u001b[38;5;21mpredict\u001b[39m(\u001b[38;5;28mself\u001b[39m, model, data, target, batch_size):\n\u001b[0;32m---> 67\u001b[0m     reconstructions \u001b[38;5;241m=\u001b[39m \u001b[43mmodel\u001b[49m\u001b[38;5;241;43m.\u001b[39;49m\u001b[43mpredict\u001b[49m\u001b[43m(\u001b[49m\u001b[43mdata\u001b[49m\u001b[43m,\u001b[49m\u001b[43m \u001b[49m\u001b[43mbatch_size\u001b[49m\u001b[43m)\u001b[49m\n\u001b[1;32m     68\u001b[0m     errors \u001b[38;5;241m=\u001b[39m np\u001b[38;5;241m.\u001b[39marray(tf\u001b[38;5;241m.\u001b[39mkeras\u001b[38;5;241m.\u001b[39mlosses\u001b[38;5;241m.\u001b[39mmse(\u001b[38;5;28mself\u001b[39m\u001b[38;5;241m.\u001b[39m_compress_array(reconstructions), \u001b[38;5;28mself\u001b[39m\u001b[38;5;241m.\u001b[39m_compress_array(data)))\n\u001b[1;32m     69\u001b[0m     \u001b[38;5;28mprint\u001b[39m(errors[:\u001b[38;5;241m5\u001b[39m])\n",
      "File \u001b[0;32m~/opt/anaconda3/envs/tf/lib/python3.10/site-packages/keras/utils/traceback_utils.py:67\u001b[0m, in \u001b[0;36mfilter_traceback.<locals>.error_handler\u001b[0;34m(*args, **kwargs)\u001b[0m\n\u001b[1;32m     65\u001b[0m \u001b[38;5;28;01mexcept\u001b[39;00m \u001b[38;5;167;01mException\u001b[39;00m \u001b[38;5;28;01mas\u001b[39;00m e:  \u001b[38;5;66;03m# pylint: disable=broad-except\u001b[39;00m\n\u001b[1;32m     66\u001b[0m   filtered_tb \u001b[38;5;241m=\u001b[39m _process_traceback_frames(e\u001b[38;5;241m.\u001b[39m__traceback__)\n\u001b[0;32m---> 67\u001b[0m   \u001b[38;5;28;01mraise\u001b[39;00m e\u001b[38;5;241m.\u001b[39mwith_traceback(filtered_tb) \u001b[38;5;28;01mfrom\u001b[39;00m \u001b[38;5;28mNone\u001b[39m\n\u001b[1;32m     68\u001b[0m \u001b[38;5;28;01mfinally\u001b[39;00m:\n\u001b[1;32m     69\u001b[0m   \u001b[38;5;28;01mdel\u001b[39;00m filtered_tb\n",
      "File \u001b[0;32m~/opt/anaconda3/envs/tf/lib/python3.10/site-packages/tensorflow/python/eager/execute.py:54\u001b[0m, in \u001b[0;36mquick_execute\u001b[0;34m(op_name, num_outputs, inputs, attrs, ctx, name)\u001b[0m\n\u001b[1;32m     52\u001b[0m \u001b[38;5;28;01mtry\u001b[39;00m:\n\u001b[1;32m     53\u001b[0m   ctx\u001b[38;5;241m.\u001b[39mensure_initialized()\n\u001b[0;32m---> 54\u001b[0m   tensors \u001b[38;5;241m=\u001b[39m pywrap_tfe\u001b[38;5;241m.\u001b[39mTFE_Py_Execute(ctx\u001b[38;5;241m.\u001b[39m_handle, device_name, op_name,\n\u001b[1;32m     55\u001b[0m                                       inputs, attrs, num_outputs)\n\u001b[1;32m     56\u001b[0m \u001b[38;5;28;01mexcept\u001b[39;00m core\u001b[38;5;241m.\u001b[39m_NotOkStatusException \u001b[38;5;28;01mas\u001b[39;00m e:\n\u001b[1;32m     57\u001b[0m   \u001b[38;5;28;01mif\u001b[39;00m name \u001b[38;5;129;01mis\u001b[39;00m \u001b[38;5;129;01mnot\u001b[39;00m \u001b[38;5;28;01mNone\u001b[39;00m:\n",
      "\u001b[0;31mInvalidArgumentError\u001b[0m: Graph execution error:\n\nDetected at node 'while/MatMul' defined at (most recent call last):\n    File \"/Users/kirsh012/opt/anaconda3/envs/tf/lib/python3.10/runpy.py\", line 196, in _run_module_as_main\n      return _run_code(code, main_globals, None,\n    File \"/Users/kirsh012/opt/anaconda3/envs/tf/lib/python3.10/runpy.py\", line 86, in _run_code\n      exec(code, run_globals)\n    File \"/Users/kirsh012/opt/anaconda3/envs/tf/lib/python3.10/site-packages/ipykernel_launcher.py\", line 17, in <module>\n      app.launch_new_instance()\n    File \"/Users/kirsh012/opt/anaconda3/envs/tf/lib/python3.10/site-packages/traitlets/config/application.py\", line 846, in launch_instance\n      app.start()\n    File \"/Users/kirsh012/opt/anaconda3/envs/tf/lib/python3.10/site-packages/ipykernel/kernelapp.py\", line 712, in start\n      self.io_loop.start()\n    File \"/Users/kirsh012/opt/anaconda3/envs/tf/lib/python3.10/site-packages/tornado/platform/asyncio.py\", line 215, in start\n      self.asyncio_loop.run_forever()\n    File \"/Users/kirsh012/opt/anaconda3/envs/tf/lib/python3.10/asyncio/base_events.py\", line 600, in run_forever\n      self._run_once()\n    File \"/Users/kirsh012/opt/anaconda3/envs/tf/lib/python3.10/asyncio/base_events.py\", line 1896, in _run_once\n      handle._run()\n    File \"/Users/kirsh012/opt/anaconda3/envs/tf/lib/python3.10/asyncio/events.py\", line 80, in _run\n      self._context.run(self._callback, *self._args)\n    File \"/Users/kirsh012/opt/anaconda3/envs/tf/lib/python3.10/site-packages/ipykernel/kernelbase.py\", line 510, in dispatch_queue\n      await self.process_one()\n    File \"/Users/kirsh012/opt/anaconda3/envs/tf/lib/python3.10/site-packages/ipykernel/kernelbase.py\", line 499, in process_one\n      await dispatch(*args)\n    File \"/Users/kirsh012/opt/anaconda3/envs/tf/lib/python3.10/site-packages/ipykernel/kernelbase.py\", line 406, in dispatch_shell\n      await result\n    File \"/Users/kirsh012/opt/anaconda3/envs/tf/lib/python3.10/site-packages/ipykernel/kernelbase.py\", line 730, in execute_request\n      reply_content = await reply_content\n    File \"/Users/kirsh012/opt/anaconda3/envs/tf/lib/python3.10/site-packages/ipykernel/ipkernel.py\", line 383, in do_execute\n      res = shell.run_cell(\n    File \"/Users/kirsh012/opt/anaconda3/envs/tf/lib/python3.10/site-packages/ipykernel/zmqshell.py\", line 528, in run_cell\n      return super().run_cell(*args, **kwargs)\n    File \"/Users/kirsh012/opt/anaconda3/envs/tf/lib/python3.10/site-packages/IPython/core/interactiveshell.py\", line 2881, in run_cell\n      result = self._run_cell(\n    File \"/Users/kirsh012/opt/anaconda3/envs/tf/lib/python3.10/site-packages/IPython/core/interactiveshell.py\", line 2936, in _run_cell\n      return runner(coro)\n    File \"/Users/kirsh012/opt/anaconda3/envs/tf/lib/python3.10/site-packages/IPython/core/async_helpers.py\", line 129, in _pseudo_sync_runner\n      coro.send(None)\n    File \"/Users/kirsh012/opt/anaconda3/envs/tf/lib/python3.10/site-packages/IPython/core/interactiveshell.py\", line 3135, in run_cell_async\n      has_raised = await self.run_ast_nodes(code_ast.body, cell_name,\n    File \"/Users/kirsh012/opt/anaconda3/envs/tf/lib/python3.10/site-packages/IPython/core/interactiveshell.py\", line 3338, in run_ast_nodes\n      if await self.run_code(code, result, async_=asy):\n    File \"/Users/kirsh012/opt/anaconda3/envs/tf/lib/python3.10/site-packages/IPython/core/interactiveshell.py\", line 3398, in run_code\n      exec(code_obj, self.user_global_ns, self.user_ns)\n    File \"/var/folders/vf/3xw3wws956q2sqm5zx7w2n800000gp/T/ipykernel_5238/3729895500.py\", line 1, in <cell line: 1>\n      test_preds, test_labels = ter.predict(autoencoder, data[val_idx], target[val_idx], BATCH_SIZE)\n    File \"/var/folders/vf/3xw3wws956q2sqm5zx7w2n800000gp/T/ipykernel_5238/289516813.py\", line 67, in predict\n      reconstructions = model.predict(data, batch_size)\n    File \"/Users/kirsh012/opt/anaconda3/envs/tf/lib/python3.10/site-packages/keras/utils/traceback_utils.py\", line 64, in error_handler\n      return fn(*args, **kwargs)\n    File \"/Users/kirsh012/opt/anaconda3/envs/tf/lib/python3.10/site-packages/keras/engine/training.py\", line 2033, in predict\n      tmp_batch_outputs = self.predict_function(iterator)\n    File \"/Users/kirsh012/opt/anaconda3/envs/tf/lib/python3.10/site-packages/keras/engine/training.py\", line 1845, in predict_function\n      return step_function(self, iterator)\n    File \"/Users/kirsh012/opt/anaconda3/envs/tf/lib/python3.10/site-packages/keras/engine/training.py\", line 1834, in step_function\n      outputs = model.distribute_strategy.run(run_step, args=(data,))\n    File \"/Users/kirsh012/opt/anaconda3/envs/tf/lib/python3.10/site-packages/keras/engine/training.py\", line 1823, in run_step\n      outputs = model.predict_step(data)\n    File \"/Users/kirsh012/opt/anaconda3/envs/tf/lib/python3.10/site-packages/keras/engine/training.py\", line 1791, in predict_step\n      return self(x, training=False)\n    File \"/Users/kirsh012/opt/anaconda3/envs/tf/lib/python3.10/site-packages/keras/utils/traceback_utils.py\", line 64, in error_handler\n      return fn(*args, **kwargs)\n    File \"/Users/kirsh012/opt/anaconda3/envs/tf/lib/python3.10/site-packages/keras/engine/training.py\", line 490, in __call__\n      return super().__call__(*args, **kwargs)\n    File \"/Users/kirsh012/opt/anaconda3/envs/tf/lib/python3.10/site-packages/keras/utils/traceback_utils.py\", line 64, in error_handler\n      return fn(*args, **kwargs)\n    File \"/Users/kirsh012/opt/anaconda3/envs/tf/lib/python3.10/site-packages/keras/engine/base_layer.py\", line 1014, in __call__\n      outputs = call_fn(inputs, *args, **kwargs)\n    File \"/Users/kirsh012/opt/anaconda3/envs/tf/lib/python3.10/site-packages/keras/utils/traceback_utils.py\", line 92, in error_handler\n      return fn(*args, **kwargs)\n    File \"/var/folders/vf/3xw3wws956q2sqm5zx7w2n800000gp/T/ipykernel_5238/3199113141.py\", line 18, in call\n      x = self.lstm1(x)\n    File \"/Users/kirsh012/opt/anaconda3/envs/tf/lib/python3.10/site-packages/keras/layers/rnn/base_rnn.py\", line 515, in __call__\n      return super(RNN, self).__call__(inputs, **kwargs)\n    File \"/Users/kirsh012/opt/anaconda3/envs/tf/lib/python3.10/site-packages/keras/utils/traceback_utils.py\", line 64, in error_handler\n      return fn(*args, **kwargs)\n    File \"/Users/kirsh012/opt/anaconda3/envs/tf/lib/python3.10/site-packages/keras/engine/base_layer.py\", line 1014, in __call__\n      outputs = call_fn(inputs, *args, **kwargs)\n    File \"/Users/kirsh012/opt/anaconda3/envs/tf/lib/python3.10/site-packages/keras/utils/traceback_utils.py\", line 92, in error_handler\n      return fn(*args, **kwargs)\n    File \"/Users/kirsh012/opt/anaconda3/envs/tf/lib/python3.10/site-packages/keras/layers/rnn/lstm.py\", line 673, in call\n      runtime) = lstm_with_backend_selection(**normal_lstm_kwargs)\n    File \"/Users/kirsh012/opt/anaconda3/envs/tf/lib/python3.10/site-packages/keras/layers/rnn/lstm.py\", line 1183, in lstm_with_backend_selection\n      last_output, outputs, new_h, new_c, runtime = defun_standard_lstm(**params)\n    File \"/Users/kirsh012/opt/anaconda3/envs/tf/lib/python3.10/site-packages/keras/layers/rnn/lstm.py\", line 891, in standard_lstm\n      last_output, outputs, new_states = backend.rnn(\n    File \"/Users/kirsh012/opt/anaconda3/envs/tf/lib/python3.10/site-packages/keras/backend.py\", line 4776, in rnn\n      final_outputs = tf.compat.v1.while_loop(\n    File \"/Users/kirsh012/opt/anaconda3/envs/tf/lib/python3.10/site-packages/keras/backend.py\", line 4759, in _step\n      output, new_states = step_function(current_input,\n    File \"/Users/kirsh012/opt/anaconda3/envs/tf/lib/python3.10/site-packages/keras/layers/rnn/lstm.py\", line 877, in step\n      z = backend.dot(cell_inputs, kernel)\n    File \"/Users/kirsh012/opt/anaconda3/envs/tf/lib/python3.10/site-packages/keras/backend.py\", line 2223, in dot\n      out = tf.matmul(x, y)\nNode: 'while/MatMul'\nMatrix size-incompatible: In[0]: [32,2], In[1]: [24,96]\n\t [[{{node while/MatMul}}]]\n\t [[functional_lstm_auto_encoder_5/lstm_10/PartitionedCall]] [Op:__inference_predict_function_348463]"
     ]
    }
   ],
   "source": [
    "test_preds, test_labels = ter.predict(autoencoder, data[val_idx], target[val_idx], BATCH_SIZE)\n",
    "\n",
    "fpr_test, tpr_test, thresh_test  = roc_curve(target[val_idx], test_preds)\n",
    "ppr_test, rec_test, pthresh_test = precision_recall_curve(target[val_idx], test_preds)\n",
    "\n",
    "print(\"Test AU-ROC: \", auc(fpr_test, tpr_test))\n",
    "print(\"Test AU-PRC: \", auc(rec_test, ppr_test))\n",
    "print(\"F-0.1 Score: \", fbeta_score(target[val_idx], test_labels, beta=0.1))"
   ]
  },
  {
   "cell_type": "code",
   "execution_count": 123,
   "id": "11cc14e9",
   "metadata": {},
   "outputs": [],
   "source": [
    "### Try a convolutional model\n",
    "conv_model = tf.keras.Sequential(\n",
    "    [\n",
    "        tf.keras.layers.Input(shape=(train_data.shape[1], train_data.shape[2])),\n",
    "        tf.keras.layers.Conv1D(\n",
    "            filters=32, kernel_size=7, padding=\"same\", strides=2, activation=\"relu\"\n",
    "        ),\n",
    "        tf.keras.layers.Dropout(rate=0.2),\n",
    "        tf.keras.layers.Conv1D(\n",
    "            filters=16, kernel_size=7, padding=\"same\", strides=2, activation=\"relu\"\n",
    "        ),\n",
    "        tf.keras.layers.Conv1DTranspose(\n",
    "            filters=16, kernel_size=7, padding=\"same\", strides=2, activation=\"relu\"\n",
    "        ),\n",
    "        tf.keras.layers.Dropout(rate=0.2),\n",
    "        tf.keras.layers.Conv1DTranspose(\n",
    "            filters=32, kernel_size=7, padding=\"same\", strides=2, activation=\"relu\"\n",
    "        ),\n",
    "        tf.keras.layers.Conv1DTranspose(filters=1, kernel_size=7, padding=\"same\"),\n",
    "        \n",
    "        tf.keras.layers.TimeDistributed(\n",
    "            tf.keras.layers.Dense(2, activation = 'relu'))\n",
    "    ]\n",
    ")\n",
    "conv_model.compile(optimizer=tf.keras.optimizers.Adam(learning_rate=0.001), loss=\"mse\")"
   ]
  },
  {
   "cell_type": "code",
   "execution_count": null,
   "id": "d4648925",
   "metadata": {},
   "outputs": [],
   "source": [
    "conv_history = conv_model.fit(\n",
    "    train_data,\n",
    "    train_data,\n",
    "    epochs=50,\n",
    "    batch_size=16,\n",
    "    validation_split=0.1,\n",
    "    callbacks=[\n",
    "        tf.keras.callbacks.EarlyStopping(monitor=\"val_loss\", patience=5, mode=\"min\")\n",
    "    ],\n",
    ")\n"
   ]
  },
  {
   "cell_type": "code",
   "execution_count": null,
   "id": "ee686f36",
   "metadata": {},
   "outputs": [],
   "source": [
    "# Plot Train and Val loss\n",
    "viz.plot_loss(conv_history.history['loss'], conv_history.history['val_loss'], title = 'Convolutional Autoencoder')"
   ]
  },
  {
   "cell_type": "code",
   "execution_count": null,
   "id": "1ed72f14",
   "metadata": {},
   "outputs": [],
   "source": [
    "tcr = ThresholdEstimator()\n",
    "\n",
    "tcr.fit(conv_model, val_data, y_val)\n",
    "\n",
    "ctest_preds, ctest_labels = tcr.predict(conv_model, test_data, y_test)\n",
    "\n",
    "cfpr_test, ctpr_test, cthresh_test = roc_curve(y_test, ctest_preds)\n",
    "cppr_test, crec_test, cpthresh_test = precision_recall_curve(y_test, ctest_preds)\n",
    "\n",
    "print(\"Test AU-ROC: \", auc(cfpr_test, ctpr_test))\n",
    "print(\"Test AU-PRC: \", auc(crec_test, cppr_test))\n",
    "print(\"F-0.1 Score: \", fbeta_score(y_test, ctest_labels, beta=1))"
   ]
  },
  {
   "cell_type": "code",
   "execution_count": null,
   "id": "e54a8d14",
   "metadata": {},
   "outputs": [],
   "source": [
    "# def get_optimal_threshold(errors, target):\n",
    "\n",
    "#     # Estimate the normal distribution of the errors\n",
    "#     mu_vector  = np.mean(errors, axis = 0)\n",
    "#     cov_matrix = np.cov(errors)\n",
    "\n",
    "#     likelihoods = norm.pdf(errors, loc=mu_vector, scale=cov_matrix) * errors\n",
    "#     print(likelihoods[:5])\n",
    "#     f_list = []\n",
    "#     thresholds = np.arange(min(likelihoods), max(likelihoods), 0.001)\n",
    "#     print(thresholds)\n",
    "#     for t in thresholds:\n",
    "\n",
    "#         preds = (likelihoods<t).astype(int)\n",
    "#         f = fbeta_score(target, preds, beta=0.1)\n",
    "#         f_list.append(f)\n",
    "\n",
    "#     best_threshold = np.argmax(f_list)\n",
    "\n",
    "#     return likelihoods, thresholds[best_threshold]\n",
    "\n",
    "def compress_array(array):\n",
    "     compressed_array = [array[sample, array.shape[1]-1, :] for sample in range(array.shape[0])]\n",
    "    \n",
    "     return compressed_array\n",
    "\n",
    "# def reconstruct(model, data, target, threshold=None):\n",
    "#     reconstructions = model.predict(data)\n",
    "#     errors = tf.keras.losses.mae(compress_array(reconstructions), compress_array(data))\n",
    "\n",
    "#     if threshold is None:\n",
    "#         errors, threshold = get_optimal_threshold(errors, target)\n",
    "# # \n",
    "#     #preds = predict_scores(model, data, threshold)\n",
    "\n",
    "#     return errors, threshold"
   ]
  },
  {
   "cell_type": "markdown",
   "id": "ef72da19",
   "metadata": {},
   "source": [
    "### Reconstruction Comparison"
   ]
  },
  {
   "cell_type": "code",
   "execution_count": null,
   "id": "0182648c",
   "metadata": {},
   "outputs": [],
   "source": [
    "reconstructions = conv_model.predict(train_data)\n",
    "errors = tf.keras.losses.mae(compress_array(reconstructions), compress_array(train_data))"
   ]
  },
  {
   "cell_type": "code",
   "execution_count": null,
   "id": "161598f3",
   "metadata": {},
   "outputs": [],
   "source": [
    "sns.histplot(errors)"
   ]
  },
  {
   "cell_type": "code",
   "execution_count": null,
   "id": "b34fc1bc",
   "metadata": {},
   "outputs": [],
   "source": [
    "val_reconstructions = conv_model.predict(val_data)\n",
    "val_errors = tf.keras.losses.mae(compress_array(val_reconstructions), compress_array(val_data))"
   ]
  },
  {
   "cell_type": "code",
   "execution_count": null,
   "id": "49ab87ff",
   "metadata": {},
   "outputs": [],
   "source": [
    "np.unique(test_labels)"
   ]
  },
  {
   "cell_type": "code",
   "execution_count": null,
   "id": "c30b876a",
   "metadata": {},
   "outputs": [],
   "source": [
    "from scipy.stats import norm\n",
    "\n",
    "norm.pdf(errors, loc=mu_vector, scale = cov_matrix)"
   ]
  },
  {
   "cell_type": "code",
   "execution_count": null,
   "id": "e88495bb",
   "metadata": {},
   "outputs": [],
   "source": [
    "multivariate_normal.pdf(errors, mean=mu_vector, cov=cov_matrix)"
   ]
  },
  {
   "cell_type": "code",
   "execution_count": null,
   "id": "9d079af9",
   "metadata": {},
   "outputs": [],
   "source": [
    "sns.histplot(val_errors)"
   ]
  },
  {
   "cell_type": "code",
   "execution_count": null,
   "id": "aef6e3be",
   "metadata": {},
   "outputs": [],
   "source": [
    "atrain_reconstructions = conv_model.predict(anomalous_train)\n",
    "atrain_errors = tf.keras.losses.mae(compress_array(atrain_reconstructions), compress_array(anomalous_train))"
   ]
  },
  {
   "cell_type": "code",
   "execution_count": null,
   "id": "e8b20171",
   "metadata": {},
   "outputs": [],
   "source": [
    "sns.histplot(atrain_errors)"
   ]
  },
  {
   "cell_type": "code",
   "execution_count": null,
   "id": "41e745e9",
   "metadata": {},
   "outputs": [],
   "source": [
    "aval_reconstructions = conv_model.predict(anomalous_val)\n",
    "aval_errors = tf.keras.losses.mae(compress_array(aval_reconstructions), compress_array(anomalous_val))\n",
    "\n",
    "sns.histplot(aval_errors)"
   ]
  },
  {
   "cell_type": "code",
   "execution_count": null,
   "id": "bbc1ba32",
   "metadata": {},
   "outputs": [],
   "source": [
    "### See the reconstruction loss on the Training Dataset\n",
    "train_scores, threshold = reconstruct(autoencoder, train_data, y_train, threshold=None)"
   ]
  },
  {
   "cell_type": "code",
   "execution_count": null,
   "id": "5ad66465",
   "metadata": {},
   "outputs": [],
   "source": [
    "threshold"
   ]
  },
  {
   "cell_type": "code",
   "execution_count": null,
   "id": "e65f49fd",
   "metadata": {},
   "outputs": [],
   "source": [
    "len(train_scores)"
   ]
  },
  {
   "cell_type": "code",
   "execution_count": null,
   "id": "c7a2c242",
   "metadata": {},
   "outputs": [],
   "source": [
    "sum(train_scores> threshold)"
   ]
  },
  {
   "cell_type": "code",
   "execution_count": null,
   "id": "550a2dcd",
   "metadata": {},
   "outputs": [],
   "source": [
    "val_scores, _ = reconstruct(autoencoder, val_data, y_val, threshold = threshold)"
   ]
  },
  {
   "cell_type": "code",
   "execution_count": null,
   "id": "e46d05c3",
   "metadata": {},
   "outputs": [],
   "source": [
    "val_scores"
   ]
  },
  {
   "cell_type": "code",
   "execution_count": null,
   "id": "2499f09c",
   "metadata": {},
   "outputs": [],
   "source": [
    "### Run hypertuning\n",
    "tuner = kt.Hyperband(model,\n",
    "                        objective='val_loss',\n",
    "                        max_epochs=100,\n",
    "                        factor=3,\n",
    "                        overwrite=True,\n",
    "                        directory='test-3-jk',\n",
    "                        project_name='lstm-autoencoder')\n",
    "\n",
    "# Run the hypertuning search\n",
    "tuner.search(train_data, train_data, epochs=50, validation_data = (val_data, val_data), batch_size=512,\n",
    "            callbacks=[early_stopping], class_weight=train_weights)"
   ]
  },
  {
   "cell_type": "code",
   "execution_count": null,
   "id": "ef8de63e",
   "metadata": {},
   "outputs": [],
   "source": [
    "### Test loading data for "
   ]
  }
 ],
 "metadata": {
  "kernelspec": {
   "display_name": "Python 3 (ipykernel)",
   "language": "python",
   "name": "python3"
  },
  "language_info": {
   "codemirror_mode": {
    "name": "ipython",
    "version": 3
   },
   "file_extension": ".py",
   "mimetype": "text/x-python",
   "name": "python",
   "nbconvert_exporter": "python",
   "pygments_lexer": "ipython3",
   "version": "3.10.4"
  }
 },
 "nbformat": 4,
 "nbformat_minor": 5
}
