{
 "cells": [
  {
   "cell_type": "code",
   "execution_count": 1,
   "id": "895a8deb",
   "metadata": {},
   "outputs": [],
   "source": [
    "import numpy as np\n",
    "import pandas as pd\n",
    "import scipy.io as sio"
   ]
  },
  {
   "cell_type": "code",
   "execution_count": 8,
   "id": "972572af",
   "metadata": {},
   "outputs": [],
   "source": [
    "subject = '3-jk'\n",
    "dlh = 'dlh1_'\n",
    "sensor = 'both'"
   ]
  },
  {
   "cell_type": "code",
   "execution_count": null,
   "id": "6d2d9960",
   "metadata": {},
   "outputs": [],
   "source": [
    "general_name = 'generalModelfirstevent--7-SB--left-subsample_dlh2_12hours_locf'"
   ]
  },
  {
   "cell_type": "code",
   "execution_count": 11,
   "id": "51b9cbeb",
   "metadata": {},
   "outputs": [],
   "source": [
    "path = '/Users/kirsh012/Box/2019_5_1_data_for_sisi/Data/'"
   ]
  },
  {
   "cell_type": "code",
   "execution_count": 14,
   "id": "b99e9fa6",
   "metadata": {},
   "outputs": [],
   "source": [
    "lfilename = f'{subject}_12hours_left-firsteventsubsample_{dlh}locf'\n",
    "rfilename = f'{subject}_12hours_right-firsteventsubsample_{dlh}locf'\n",
    "\n",
    "left = sio.loadmat(f\"{path}{lfilename}/sampled_data.mat\")\n",
    "right = sio.loadmat(f\"{path}{rfilename}/sampled_data.mat\")"
   ]
  },
  {
   "cell_type": "code",
   "execution_count": 30,
   "id": "114709a6",
   "metadata": {},
   "outputs": [],
   "source": [
    "ldata = left['tdata']['data'][0,0]\n",
    "rdata = right['tdata']['data'][0,0]\n",
    "\n",
    "ltarget = left['ttarget'].ravel()\n",
    "rtarget = right['ttarget'].ravel()"
   ]
  },
  {
   "cell_type": "code",
   "execution_count": 31,
   "id": "b2167bb8",
   "metadata": {},
   "outputs": [
    {
     "data": {
      "text/plain": [
       "(295,)"
      ]
     },
     "execution_count": 31,
     "metadata": {},
     "output_type": "execute_result"
    }
   ],
   "source": [
    "ltarget.shape"
   ]
  },
  {
   "cell_type": "code",
   "execution_count": 32,
   "id": "1c6c68a1",
   "metadata": {},
   "outputs": [],
   "source": [
    "target = np.stack((ltarget, rtarget), axis = 1)"
   ]
  },
  {
   "cell_type": "code",
   "execution_count": 33,
   "id": "eb15f098",
   "metadata": {},
   "outputs": [
    {
     "data": {
      "text/plain": [
       "(295, 2)"
      ]
     },
     "execution_count": 33,
     "metadata": {},
     "output_type": "execute_result"
    }
   ],
   "source": [
    "target.shape"
   ]
  },
  {
   "cell_type": "code",
   "execution_count": 34,
   "id": "ec8f1ae6",
   "metadata": {},
   "outputs": [
    {
     "data": {
      "text/plain": [
       "(295, 24)"
      ]
     },
     "execution_count": 34,
     "metadata": {},
     "output_type": "execute_result"
    }
   ],
   "source": [
    "ldata.shape"
   ]
  },
  {
   "cell_type": "code",
   "execution_count": 35,
   "id": "65e57a67",
   "metadata": {},
   "outputs": [
    {
     "data": {
      "text/plain": [
       "(295, 24, 1)"
      ]
     },
     "execution_count": 35,
     "metadata": {},
     "output_type": "execute_result"
    }
   ],
   "source": [
    "np.reshape(ldata, (ldata.shape[0], ldata.shape[1]), axi).shape"
   ]
  },
  {
   "cell_type": "code",
   "execution_count": 36,
   "id": "072b9573",
   "metadata": {},
   "outputs": [
    {
     "data": {
      "text/plain": [
       "(295, 24, 1)"
      ]
     },
     "execution_count": 36,
     "metadata": {},
     "output_type": "execute_result"
    }
   ],
   "source": [
    "np.stack((ldata,), axis = 2).shape"
   ]
  },
  {
   "cell_type": "code",
   "execution_count": null,
   "id": "64ad4f38",
   "metadata": {},
   "outputs": [],
   "source": []
  }
 ],
 "metadata": {
  "kernelspec": {
   "display_name": "Python 3 (ipykernel)",
   "language": "python",
   "name": "python3"
  },
  "language_info": {
   "codemirror_mode": {
    "name": "ipython",
    "version": 3
   },
   "file_extension": ".py",
   "mimetype": "text/x-python",
   "name": "python",
   "nbconvert_exporter": "python",
   "pygments_lexer": "ipython3",
   "version": "3.10.4"
  }
 },
 "nbformat": 4,
 "nbformat_minor": 5
}
